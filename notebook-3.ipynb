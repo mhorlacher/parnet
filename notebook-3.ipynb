{
 "cells": [
  {
   "cell_type": "code",
   "execution_count": 2,
   "metadata": {},
   "outputs": [],
   "source": [
    "import torch\n",
    "import torch.nn as nn\n",
    "import torch.functional as F\n",
    "import pytorch_lightning as pl\n",
    "\n",
    "from torchrbpnet.layers import Conv1DFirstLayer, Conv1DResBlock, IndexEmbeddingOutputHead\n",
    "from torchrbpnet.losses import MultinomialNLLLossFromLogits\n",
    "from torchrbpnet.data.utils import TFIterableDataset"
   ]
  },
  {
   "cell_type": "code",
   "execution_count": 21,
   "metadata": {},
   "outputs": [],
   "source": [
    "class Network(nn.Module):\n",
    "    def __init__(self, tasks, n_layers=9, n_body_filters=256):\n",
    "        super(Network, self).__init__()\n",
    "\n",
    "        self.tasks = tasks\n",
    "\n",
    "        self.body = nn.Sequential(*[Conv1DFirstLayer(4, n_body_filters, 6)]+[(Conv1DResBlock(n_body_filters, n_body_filters, dilation=(2**i))) for i in range(n_layers)])\n",
    "        self.head = IndexEmbeddingOutputHead(len(self.tasks), dims=n_body_filters)\n",
    "    \n",
    "    def forward(self, inputs, **kwargs):\n",
    "        x = inputs\n",
    "\n",
    "        for layer in self.body:\n",
    "            x = layer(x)\n",
    "\n",
    "        return self.head(x)\n",
    "\n",
    "network = Network(tasks=list(range(223)))"
   ]
  },
  {
   "cell_type": "code",
   "execution_count": 22,
   "metadata": {},
   "outputs": [
    {
     "data": {
      "text/plain": [
       "MultiRBPNet(\n",
       "  (network): Network(\n",
       "    (body): Sequential(\n",
       "      (0): Conv1DFirstLayer(\n",
       "        (conv1d): Conv1d(4, 256, kernel_size=(6,), stride=(1,), padding=same)\n",
       "        (act): ReLU()\n",
       "      )\n",
       "      (1): Conv1DResBlock(\n",
       "        (conv1d): Conv1d(256, 256, kernel_size=(3,), stride=(1,), padding=same)\n",
       "        (batch_norm): BatchNorm1d(256, eps=1e-05, momentum=0.1, affine=True, track_running_stats=True)\n",
       "        (act): ReLU()\n",
       "        (dropout): Dropout(p=0.25, inplace=False)\n",
       "      )\n",
       "      (2): Conv1DResBlock(\n",
       "        (conv1d): Conv1d(256, 256, kernel_size=(3,), stride=(1,), padding=same, dilation=(2,))\n",
       "        (batch_norm): BatchNorm1d(256, eps=1e-05, momentum=0.1, affine=True, track_running_stats=True)\n",
       "        (act): ReLU()\n",
       "        (dropout): Dropout(p=0.25, inplace=False)\n",
       "      )\n",
       "      (3): Conv1DResBlock(\n",
       "        (conv1d): Conv1d(256, 256, kernel_size=(3,), stride=(1,), padding=same, dilation=(4,))\n",
       "        (batch_norm): BatchNorm1d(256, eps=1e-05, momentum=0.1, affine=True, track_running_stats=True)\n",
       "        (act): ReLU()\n",
       "        (dropout): Dropout(p=0.25, inplace=False)\n",
       "      )\n",
       "      (4): Conv1DResBlock(\n",
       "        (conv1d): Conv1d(256, 256, kernel_size=(3,), stride=(1,), padding=same, dilation=(8,))\n",
       "        (batch_norm): BatchNorm1d(256, eps=1e-05, momentum=0.1, affine=True, track_running_stats=True)\n",
       "        (act): ReLU()\n",
       "        (dropout): Dropout(p=0.25, inplace=False)\n",
       "      )\n",
       "      (5): Conv1DResBlock(\n",
       "        (conv1d): Conv1d(256, 256, kernel_size=(3,), stride=(1,), padding=same, dilation=(16,))\n",
       "        (batch_norm): BatchNorm1d(256, eps=1e-05, momentum=0.1, affine=True, track_running_stats=True)\n",
       "        (act): ReLU()\n",
       "        (dropout): Dropout(p=0.25, inplace=False)\n",
       "      )\n",
       "      (6): Conv1DResBlock(\n",
       "        (conv1d): Conv1d(256, 256, kernel_size=(3,), stride=(1,), padding=same, dilation=(32,))\n",
       "        (batch_norm): BatchNorm1d(256, eps=1e-05, momentum=0.1, affine=True, track_running_stats=True)\n",
       "        (act): ReLU()\n",
       "        (dropout): Dropout(p=0.25, inplace=False)\n",
       "      )\n",
       "      (7): Conv1DResBlock(\n",
       "        (conv1d): Conv1d(256, 256, kernel_size=(3,), stride=(1,), padding=same, dilation=(64,))\n",
       "        (batch_norm): BatchNorm1d(256, eps=1e-05, momentum=0.1, affine=True, track_running_stats=True)\n",
       "        (act): ReLU()\n",
       "        (dropout): Dropout(p=0.25, inplace=False)\n",
       "      )\n",
       "      (8): Conv1DResBlock(\n",
       "        (conv1d): Conv1d(256, 256, kernel_size=(3,), stride=(1,), padding=same, dilation=(128,))\n",
       "        (batch_norm): BatchNorm1d(256, eps=1e-05, momentum=0.1, affine=True, track_running_stats=True)\n",
       "        (act): ReLU()\n",
       "        (dropout): Dropout(p=0.25, inplace=False)\n",
       "      )\n",
       "      (9): Conv1DResBlock(\n",
       "        (conv1d): Conv1d(256, 256, kernel_size=(3,), stride=(1,), padding=same, dilation=(256,))\n",
       "        (batch_norm): BatchNorm1d(256, eps=1e-05, momentum=0.1, affine=True, track_running_stats=True)\n",
       "        (act): ReLU()\n",
       "        (dropout): Dropout(p=0.25, inplace=False)\n",
       "      )\n",
       "    )\n",
       "    (head): IndexEmbeddingOutputHead(\n",
       "      (embedding): Embedding(223, 256)\n",
       "    )\n",
       "  )\n",
       "  (loss_fn): MultinomialNLLLossFromLogits()\n",
       ")"
      ]
     },
     "execution_count": 22,
     "metadata": {},
     "output_type": "execute_result"
    }
   ],
   "source": [
    "class MultiRBPNet(pl.LightningModule):\n",
    "    def __init__(self, network):\n",
    "        super().__init__()\n",
    "        self.network = network # Network(tasks=range(223))\n",
    "        self.loss_fn = MultinomialNLLLossFromLogits()\n",
    "\n",
    "    def training_step(self, batch, **kwargs):\n",
    "        x, y = batch\n",
    "        y_pred = self.network(x)\n",
    "        loss = self.loss_fn(y, y_pred, dim=-2)\n",
    "        return loss\n",
    "\n",
    "    def configure_optimizers(self):\n",
    "        optimizer = torch.optim.Adam(self.parameters(), lr=1e-3)\n",
    "        return optimizer\n",
    "\n",
    "model = MultiRBPNet(network)\n",
    "model"
   ]
  },
  {
   "cell_type": "code",
   "execution_count": 11,
   "metadata": {},
   "outputs": [],
   "source": [
    "dataset = TFIterableDataset('example-data-matrix/windows.chr13.4.data.matrix.filtered.tfrecord', shuffle=1_000_000)\n",
    "dataloader = torch.utils.data.DataLoader(dataset, batch_size=None)"
   ]
  },
  {
   "cell_type": "code",
   "execution_count": 18,
   "metadata": {},
   "outputs": [
    {
     "name": "stderr",
     "output_type": "stream",
     "text": [
      "GPU available: True (cuda), used: False\n",
      "TPU available: False, using: 0 TPU cores\n",
      "IPU available: False, using: 0 IPUs\n",
      "HPU available: False, using: 0 HPUs\n",
      "\n",
      "  | Name    | Type                         | Params\n",
      "---------------------------------------------------------\n",
      "0 | network | Network                      | 1.8 M \n",
      "1 | loss_fn | MultinomialNLLLossFromLogits | 0     \n",
      "---------------------------------------------------------\n",
      "1.8 M     Trainable params\n",
      "0         Non-trainable params\n",
      "1.8 M     Total params\n",
      "7.384     Total estimated model params size (MB)\n"
     ]
    },
    {
     "name": "stdout",
     "output_type": "stream",
     "text": [
      "Epoch 0: : 2it [00:28, 14.40s/it, loss=323, v_num=9]"
     ]
    },
    {
     "name": "stderr",
     "output_type": "stream",
     "text": [
      "/home/marc/miniconda3/envs/torch/lib/python3.10/site-packages/pytorch_lightning/trainer/call.py:48: UserWarning: Detected KeyboardInterrupt, attempting graceful shutdown...\n",
      "  rank_zero_warn(\"Detected KeyboardInterrupt, attempting graceful shutdown...\")\n"
     ]
    }
   ],
   "source": [
    "trainer = pl.Trainer(max_epochs=2)\n",
    "trainer.fit(model=model, train_dataloaders=dataloader)"
   ]
  },
  {
   "cell_type": "code",
   "execution_count": 20,
   "metadata": {},
   "outputs": [
    {
     "data": {
      "text/plain": [
       "{'chr10',\n",
       " 'chr11',\n",
       " 'chr12',\n",
       " 'chr13',\n",
       " 'chr14',\n",
       " 'chr15',\n",
       " 'chr16',\n",
       " 'chr17',\n",
       " 'chr18',\n",
       " 'chr19',\n",
       " 'chr20',\n",
       " 'chr21',\n",
       " 'chr22',\n",
       " 'chr23',\n",
       " 'chr3',\n",
       " 'chr4',\n",
       " 'chr5',\n",
       " 'chr6',\n",
       " 'chr7',\n",
       " 'chr8',\n",
       " 'chr9'}"
      ]
     },
     "execution_count": 20,
     "metadata": {},
     "output_type": "execute_result"
    }
   ],
   "source": [
    "{f'chr{i}' for i in range(1, 24)}.difference({'chr1', 'chr2'})"
   ]
  },
  {
   "cell_type": "code",
   "execution_count": null,
   "metadata": {},
   "outputs": [],
   "source": []
  },
  {
   "cell_type": "code",
   "execution_count": null,
   "metadata": {},
   "outputs": [],
   "source": []
  }
 ],
 "metadata": {
  "interpreter": {
   "hash": "7c2a629b5d736a8b2a3c0111829bdedfa4bd0b48e49067d38bd73bb54a8250f9"
  },
  "kernelspec": {
   "display_name": "Python 3.10.9 ('torch')",
   "language": "python",
   "name": "python3"
  },
  "language_info": {
   "codemirror_mode": {
    "name": "ipython",
    "version": 3
   },
   "file_extension": ".py",
   "mimetype": "text/x-python",
   "name": "python",
   "nbconvert_exporter": "python",
   "pygments_lexer": "ipython3",
   "version": "3.10.9"
  },
  "orig_nbformat": 4
 },
 "nbformat": 4,
 "nbformat_minor": 2
}
