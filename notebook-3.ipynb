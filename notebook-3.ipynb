{
 "cells": [
  {
   "cell_type": "code",
   "execution_count": null,
   "metadata": {},
   "outputs": [],
   "source": [
    "# import torch\n",
    "# import torch.nn as nn\n",
    "# import torch.functional as F\n",
    "# import pytorch_lightning as pl\n",
    "\n",
    "# from torchrbpnet.layers import Conv1DFirstLayer, Conv1DResBlock, IndexEmbeddingOutputHead\n",
    "# from torchrbpnet.losses import MultinomialNLLLossFromLogits\n",
    "# from torchrbpnet.data.utils import TFIterableDataset"
   ]
  },
  {
   "cell_type": "code",
   "execution_count": null,
   "metadata": {},
   "outputs": [],
   "source": [
    "# class Network(nn.Module):\n",
    "#     def __init__(self, tasks, n_layers=9, n_body_filters=256):\n",
    "#         super(Network, self).__init__()\n",
    "\n",
    "#         self.tasks = tasks\n",
    "\n",
    "#         self.body = nn.Sequential(*[Conv1DFirstLayer(4, n_body_filters, 6)]+[(Conv1DResBlock(n_body_filters, n_body_filters, dilation=(2**i))) for i in range(n_layers)])\n",
    "#         self.head = IndexEmbeddingOutputHead(len(self.tasks), dims=n_body_filters)\n",
    "    \n",
    "#     def forward(self, inputs, **kwargs):\n",
    "#         x = inputs\n",
    "\n",
    "#         for layer in self.body:\n",
    "#             x = layer(x)\n",
    "\n",
    "#         return self.head(x)\n",
    "\n",
    "# network = Network(tasks=list(range(223)))"
   ]
  },
  {
   "cell_type": "code",
   "execution_count": null,
   "metadata": {},
   "outputs": [],
   "source": [
    "# class MultiRBPNet(pl.LightningModule):\n",
    "#     def __init__(self, network):\n",
    "#         super().__init__()\n",
    "#         self.network = network # Network(tasks=range(223))\n",
    "#         self.loss_fn = MultinomialNLLLossFromLogits()\n",
    "\n",
    "#     def training_step(self, batch, **kwargs):\n",
    "#         x, y = batch\n",
    "#         y_pred = self.network(x)\n",
    "#         loss = self.loss_fn(y, y_pred, dim=-2)\n",
    "#         return loss\n",
    "\n",
    "#     def configure_optimizers(self):\n",
    "#         optimizer = torch.optim.Adam(self.parameters(), lr=1e-3)\n",
    "#         return optimizer\n",
    "\n",
    "# model = MultiRBPNet(network)\n",
    "# model"
   ]
  },
  {
   "cell_type": "code",
   "execution_count": null,
   "metadata": {},
   "outputs": [],
   "source": [
    "# dataset = TFIterableDataset('example-data-matrix/windows.chr13.4.data.matrix.filtered.tfrecord', shuffle=1_000_000)\n",
    "# dataloader = torch.utils.data.DataLoader(dataset, batch_size=None)"
   ]
  },
  {
   "cell_type": "code",
   "execution_count": null,
   "metadata": {},
   "outputs": [],
   "source": [
    "import pytorch_lightning as pl"
   ]
  },
  {
   "cell_type": "code",
   "execution_count": null,
   "metadata": {},
   "outputs": [],
   "source": [
    "from torchrbpnet.data import tfrecord_to_dataloader\n",
    "\n",
    "dataloader = tfrecord_to_dataloader('example-data-matrix/windows.chr13.4.data.matrix.filtered.tfrecord')"
   ]
  },
  {
   "cell_type": "code",
   "execution_count": null,
   "metadata": {},
   "outputs": [],
   "source": [
    "from torchrbpnet.networks import MultiRBPNet\n",
    "from torchrbpnet.lightning import Model"
   ]
  },
  {
   "cell_type": "code",
   "execution_count": null,
   "metadata": {},
   "outputs": [],
   "source": [
    "model = Model(network=MultiRBPNet(tasks=list(range(223))))"
   ]
  },
  {
   "cell_type": "code",
   "execution_count": null,
   "metadata": {},
   "outputs": [],
   "source": [
    "trainer = pl.Trainer(max_epochs=2)\n",
    "trainer.fit(model=model, train_dataloaders=dataloader)"
   ]
  },
  {
   "cell_type": "code",
   "execution_count": null,
   "metadata": {},
   "outputs": [],
   "source": []
  },
  {
   "cell_type": "code",
   "execution_count": null,
   "metadata": {},
   "outputs": [],
   "source": []
  }
 ],
 "metadata": {
  "interpreter": {
   "hash": "7c2a629b5d736a8b2a3c0111829bdedfa4bd0b48e49067d38bd73bb54a8250f9"
  },
  "kernelspec": {
   "display_name": "Python 3.10.9 ('torch')",
   "language": "python",
   "name": "python3"
  },
  "language_info": {
   "codemirror_mode": {
    "name": "ipython",
    "version": 3
   },
   "file_extension": ".py",
   "mimetype": "text/x-python",
   "name": "python",
   "nbconvert_exporter": "python",
   "pygments_lexer": "ipython3",
   "version": "3.10.9"
  },
  "orig_nbformat": 4
 },
 "nbformat": 4,
 "nbformat_minor": 2
}
