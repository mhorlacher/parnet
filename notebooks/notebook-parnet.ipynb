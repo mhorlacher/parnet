{
 "cells": [
  {
   "cell_type": "code",
   "execution_count": null,
   "metadata": {},
   "outputs": [],
   "source": [
    "import torch\n",
    "import torch.nn as nn\n",
    "import pytorch_lightning as pl\n",
    "\n",
    "import parnet"
   ]
  },
  {
   "cell_type": "code",
   "execution_count": null,
   "metadata": {},
   "outputs": [],
   "source": [
    "network = parnet.networks.PanRBPNet(223)\n",
    "network"
   ]
  },
  {
   "cell_type": "code",
   "execution_count": null,
   "metadata": {},
   "outputs": [],
   "source": [
    "# # %%\n",
    "# import torch\n",
    "# import torch.nn as nn\n",
    "# import torchmetrics\n",
    "\n",
    "# # %%\n",
    "# def log_likelihood_from_logits(y, y_pred, dim):\n",
    "#     return torch.sum(torch.mul(torch.log_softmax(y_pred, dim=dim), y), dim=dim) + log_combinations(y, dim)\n",
    "\n",
    "# def log_combinations(input, dim):\n",
    "#     total_permutations = torch.lgamma(torch.sum(input, dim=dim) + 1)\n",
    "#     counts_factorial = torch.lgamma(input + 1)\n",
    "#     redundant_permutations = torch.sum(counts_factorial, dim=dim)\n",
    "#     return total_permutations - redundant_permutations\n",
    "\n",
    "# def multinomial_neg_log_probs(y, y_pred, dim=-1):\n",
    "#     return log_likelihood_from_logits(y, y_pred, dim) * -1\n",
    "\n",
    "# # %%\n",
    "# class MultinomialNLLLossFromLogits(torchmetrics.MeanMetric):\n",
    "#     def __init__(self, dim=-2, *args, **kwargs):\n",
    "#         super().__init__(*args, **kwargs)\n",
    "#         self.dim = dim\n",
    "\n",
    "#     def update(self, y: torch.Tensor, y_pred: torch.Tensor):\n",
    "#         assert y_pred.shape == y.shape\n",
    "\n",
    "#         loss = torch.mean(multinomial_neg_log_probs(y, y_pred, dim=self.dim))\n",
    "\n",
    "#         # update running mean\n",
    "#         super().update(loss)\n",
    "\n",
    "# y = torch.rand(2, 1000, 223)\n",
    "# y_pred = network({'sequence': torch.rand(2, 4, 1000)})\n",
    "\n",
    "# m_1 = multinomial_neg_log_probs\n",
    "# m_2 = MultinomialNLLLossFromLogits()\n",
    "\n",
    "# print(m_1(y, y_pred, dim=-2).shape)\n",
    "# print(torch.mean(m_1(y, y_pred, dim=-2)))\n",
    "# print(m_2(y, y_pred))"
   ]
  },
  {
   "cell_type": "code",
   "execution_count": null,
   "metadata": {},
   "outputs": [],
   "source": [
    "from parnet.losses import MultinomialNLLLossFromLogits\n",
    "from parnet.metrics import PearsonCorrCoeff, FilteredPearsonCorrCoeff\n",
    "\n",
    "class Model(pl.LightningModule):\n",
    "    def __init__(self, network, _example_input=None, metrics=None, optimizer=torch.optim.Adam):\n",
    "        super().__init__()\n",
    "        self.network = network\n",
    "\n",
    "        # loss\n",
    "        self.loss_fn = nn.ModuleDict({\n",
    "            'TRAIN': MultinomialNLLLossFromLogits(dim=-2),\n",
    "            'VAL': MultinomialNLLLossFromLogits(dim=-2),\n",
    "        })\n",
    "        \n",
    "        # metrics\n",
    "        if metrics is None:\n",
    "            metrics = {}\n",
    "        self.metrics = nn.ModuleDict({\n",
    "            'TRAIN': nn.ModuleDict({name: metric() for name, metric in metrics.items()}),\n",
    "            'VAL': nn.ModuleDict({name: metric() for name, metric in metrics.items()}),\n",
    "        })\n",
    "        \n",
    "        # optimizer\n",
    "        self.optimizer_cls = optimizer\n",
    "    \n",
    "    def forward(self, *args, **kwargs):\n",
    "        return self.network(*args, **kwargs)\n",
    "\n",
    "    def configure_optimizers(self):\n",
    "        optimizer = self.optimizer_cls(self.parameters())\n",
    "        return optimizer\n",
    "\n",
    "    def training_step(self, batch, batch_idx=None, **kwargs):\n",
    "        inputs, y = batch\n",
    "        y = y['total']\n",
    "        y_pred = self.forward(inputs)\n",
    "        # loss = self.loss_fn(y, y_pred)\n",
    "        loss = self.compute_and_log_loss(y, y_pred, partition='TRAIN')\n",
    "        self.compute_and_log_metics(y, y_pred, partition='TRAIN')\n",
    "        return loss\n",
    "\n",
    "    def validation_step(self, batch, batch_idx=None, **kwargs):\n",
    "        inputs, y = batch\n",
    "        y = y['total']\n",
    "        y_pred = self.forward(inputs)\n",
    "        self.compute_and_log_loss(y, y_pred, partition='VAL')\n",
    "        self.compute_and_log_metics(y, y_pred, partition='VAL')\n",
    "    \n",
    "    def compute_and_log_loss(self, y, y_pred, partition=None):\n",
    "        # on_step = False\n",
    "        # if partition == 'TRAIN':\n",
    "        #     on_step = True\n",
    "\n",
    "        loss = self.loss_fn[partition](y, y_pred)\n",
    "        self.log(f'{partition}/loss', loss, on_step=True, on_epoch=True, prog_bar=False)\n",
    "        return loss\n",
    "\n",
    "    def compute_and_log_metics(self, y, y_pred, partition=None):\n",
    "        # on_step = False\n",
    "        # if partition == 'TRAIN':\n",
    "        #     on_step = True\n",
    "\n",
    "        for name, metric in self.metrics[partition].items():\n",
    "            metric(y, y_pred)\n",
    "            self.log(f'{partition}/{name}', metric, on_step=True, on_epoch=True, prog_bar=False)\n",
    "\n",
    "model = Model(network, metrics={'pcc': PearsonCorrCoeff, 'filtered_pcc': FilteredPearsonCorrCoeff})\n",
    "model"
   ]
  },
  {
   "cell_type": "code",
   "execution_count": null,
   "metadata": {},
   "outputs": [],
   "source": [
    "dataloader = torch.utils.data.DataLoader(parnet.data.datasets.TFIterableDataset('../example/data.matrix/head.tfrecord', batch_size=4, shuffle=1_000_000), batch_size=None)\n",
    "dataloader"
   ]
  },
  {
   "cell_type": "code",
   "execution_count": null,
   "metadata": {},
   "outputs": [],
   "source": [
    "next(iter(dataloader))[1]['total'].shape"
   ]
  },
  {
   "cell_type": "code",
   "execution_count": null,
   "metadata": {},
   "outputs": [],
   "source": [
    "import datetime\n",
    "from pytorch_lightning import loggers as pl_loggers\n",
    "from pytorch_lightning import Trainer\n",
    "from pytorch_lightning.callbacks import ModelCheckpoint, EarlyStopping, RichProgressBar, LearningRateMonitor\n",
    "\n",
    "root_log_dir = f'logs/{datetime.datetime.now().strftime(\"%Y%m%d-%H%M%S\")}'\n",
    "loggers = [\n",
    "    pl_loggers.TensorBoardLogger(root_log_dir+'/tensorboard', name='', version='', log_graph=True),\n",
    "    # pl_loggers.CSVLogger(root_log_dir+'/tensorboard', name='', version=''),\n",
    "]\n",
    "\n",
    "checkpoint_callback = ModelCheckpoint(dirpath=f'{root_log_dir}/checkpoints', every_n_epochs=1, save_last=True)\n",
    "\n",
    "early_stop_callback = EarlyStopping(monitor=\"val/loss\", min_delta=0.00, patience=3, verbose=False, mode=\"min\")\n",
    "\n",
    "bar = RichProgressBar()\n",
    "\n",
    "trainer = pl.Trainer(default_root_dir=root_log_dir, max_epochs=10, logger=loggers, callbacks=[checkpoint_callback, LearningRateMonitor('step', log_momentum=True)], log_every_n_steps=1)\n",
    "trainer.fit(model=model, train_dataloaders=dataloader, val_dataloaders=dataloader)\n",
    "torch.save(model.network, 'test.pt')"
   ]
  },
  {
   "cell_type": "code",
   "execution_count": null,
   "metadata": {},
   "outputs": [],
   "source": [
    "y = next(iter(dataloader))[1]['total']\n",
    "y_pred = model(next(iter(dataloader))[0])"
   ]
  },
  {
   "cell_type": "code",
   "execution_count": null,
   "metadata": {},
   "outputs": [],
   "source": [
    "y.shape"
   ]
  },
  {
   "cell_type": "code",
   "execution_count": null,
   "metadata": {},
   "outputs": [],
   "source": [
    "import torch\n",
    "import torchmetrics\n",
    "\n",
    "y = torch.tensor(\n",
    "    [\n",
    "        [\n",
    "            [1, 2, 3, 2],\n",
    "            [1, 0, 0, 7],\n",
    "        ],\n",
    "        [\n",
    "            [1, 2, 3, 2],\n",
    "            [1, 0, 0, 7],\n",
    "        ],\n",
    "    ], dtype=torch.float32\n",
    ")\n",
    "print(y.shape)\n",
    "\n",
    "y_pred = torch.tensor(\n",
    "    [\n",
    "        [\n",
    "            [1, 4, 3, 2],\n",
    "            [1, 0, 2, 2],\n",
    "        ],\n",
    "        [\n",
    "            [1, 4, 3, 2],\n",
    "            [1, 0, 2, 2],\n",
    "        ],\n",
    "    ], dtype=torch.float32\n",
    ")\n",
    "print(y_pred.shape)\n",
    "\n",
    "print(torchmetrics.functional.pearson_corrcoef(torch.tensor([1., 2., 3., 2.]), torch.tensor([1., 4., 3., 2.])))\n",
    "print(torchmetrics.functional.pearson_corrcoef(torch.tensor([1., 0., 0., 7.]), torch.tensor([1., 0., 2., 2.])))"
   ]
  },
  {
   "cell_type": "code",
   "execution_count": null,
   "metadata": {},
   "outputs": [],
   "source": [
    "from parnet import metrics\n",
    "\n",
    "print(metrics.PearsonCorrCoeff()(y, y_pred))"
   ]
  },
  {
   "cell_type": "code",
   "execution_count": null,
   "metadata": {},
   "outputs": [],
   "source": []
  },
  {
   "cell_type": "code",
   "execution_count": null,
   "metadata": {},
   "outputs": [],
   "source": [
    "def pearson_corrcoef(x, y, dim=-1):\n",
    "    x = x - torch.unsqueeze(torch.mean(x, dim), dim)\n",
    "    y = y - torch.unsqueeze(torch.mean(y, dim), dim)\n",
    "    return torch.sum(x * y, dim) / torch.sqrt(torch.sum(x ** 2, dim) * torch.sum(y ** 2, dim))\n",
    "\n",
    "torch.mean(pearson_corrcoef(y, y_pred))"
   ]
  },
  {
   "cell_type": "code",
   "execution_count": null,
   "metadata": {},
   "outputs": [],
   "source": [
    "torchmetrics.functional.pearson_corrcoef(y[0], y_pred[0])"
   ]
  },
  {
   "cell_type": "code",
   "execution_count": null,
   "metadata": {},
   "outputs": [],
   "source": [
    "y_flat = torch.flatten(y, start_dim=0, end_dim=-2)\n",
    "y_pred_flat = torch.flatten(y_pred, start_dim=0, end_dim=-2)\n",
    "\n",
    "y_flat_t = torch.transpose(y_flat, -1, -2)\n",
    "y_pred_flat_t = torch.transpose(y_pred_flat, -1, -2)\n",
    "print(y_pred_flat_t)"
   ]
  },
  {
   "cell_type": "code",
   "execution_count": null,
   "metadata": {},
   "outputs": [],
   "source": [
    "torchmetrics.functional.pearson_corrcoef(y_flat_t, y_pred_flat_t).reshape(y.shape[:-1])"
   ]
  },
  {
   "cell_type": "code",
   "execution_count": null,
   "metadata": {},
   "outputs": [],
   "source": [
    "def batched_pearson_corrcoef(y_batch, y_pred_batch, reduction=None):\n",
    "    pcc = torch.stack([torchmetrics.functional.pearson_corrcoef(y_batch[i], y_pred_batch[i]) for i in range(y_batch.shape[0])])\n",
    "    if reduction is not None:\n",
    "        pcc = reduction(pcc)\n",
    "    return pcc\n",
    "batched_pearson_corrcoef(y, y_pred)"
   ]
  },
  {
   "cell_type": "code",
   "execution_count": null,
   "metadata": {},
   "outputs": [],
   "source": [
    "from parnet import metrics\n",
    "\n",
    "values = metrics.batched_pearson_corrcoef(y, y_pred, reduction=None)\n",
    "values.shape"
   ]
  },
  {
   "cell_type": "code",
   "execution_count": null,
   "metadata": {},
   "outputs": [],
   "source": []
  }
 ],
 "metadata": {
  "kernelspec": {
   "display_name": "torch",
   "language": "python",
   "name": "python3"
  },
  "language_info": {
   "codemirror_mode": {
    "name": "ipython",
    "version": 3
   },
   "file_extension": ".py",
   "mimetype": "text/x-python",
   "name": "python",
   "nbconvert_exporter": "python",
   "pygments_lexer": "ipython3",
   "version": "3.10.9"
  },
  "orig_nbformat": 4,
  "vscode": {
   "interpreter": {
    "hash": "7c2a629b5d736a8b2a3c0111829bdedfa4bd0b48e49067d38bd73bb54a8250f9"
   }
  }
 },
 "nbformat": 4,
 "nbformat_minor": 2
}
