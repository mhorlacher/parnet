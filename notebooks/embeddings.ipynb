{
 "cells": [
  {
   "cell_type": "code",
   "execution_count": 1,
   "metadata": {},
   "outputs": [],
   "source": [
    "import torch"
   ]
  },
  {
   "cell_type": "code",
   "execution_count": 2,
   "metadata": {},
   "outputs": [
    {
     "name": "stderr",
     "output_type": "stream",
     "text": [
      "/home/marc/.miniconda/envs/parnet/lib/python3.11/site-packages/tqdm/auto.py:21: TqdmWarning: IProgress not found. Please update jupyter and ipywidgets. See https://ipywidgets.readthedocs.io/en/stable/user_install.html\n",
      "  from .autonotebook import tqdm as notebook_tqdm\n",
      "Seed set to 42\n",
      "2024-04-20 12:19:43.823549: E external/local_xla/xla/stream_executor/cuda/cuda_dnn.cc:9261] Unable to register cuDNN factory: Attempting to register factory for plugin cuDNN when one has already been registered\n",
      "2024-04-20 12:19:43.823584: E external/local_xla/xla/stream_executor/cuda/cuda_fft.cc:607] Unable to register cuFFT factory: Attempting to register factory for plugin cuFFT when one has already been registered\n",
      "2024-04-20 12:19:43.824785: E external/local_xla/xla/stream_executor/cuda/cuda_blas.cc:1515] Unable to register cuBLAS factory: Attempting to register factory for plugin cuBLAS when one has already been registered\n",
      "2024-04-20 12:19:43.832035: I tensorflow/core/platform/cpu_feature_guard.cc:182] This TensorFlow binary is optimized to use available CPU instructions in performance-critical operations.\n",
      "To enable the following instructions: AVX2 FMA, in other operations, rebuild TensorFlow with the appropriate compiler flags.\n",
      "2024-04-20 12:19:44.787132: W tensorflow/compiler/tf2tensorrt/utils/py_utils.cc:38] TF-TRT Warning: Could not find TensorRT\n"
     ]
    },
    {
     "data": {
      "text/plain": [
       "LikeBasenji2(\n",
       "  (stem): Sequential(\n",
       "    (0): Conv1d(4, 384, kernel_size=(11,), stride=(1,), padding=same)\n",
       "    (1): BatchNorm1d(384, eps=1e-05, momentum=0.1, affine=True, track_running_stats=True)\n",
       "    (2): GELU(approximate='none')\n",
       "  )\n",
       "  (conv_tower): Sequential(\n",
       "    (0): LikeBasenji2ConvBlock(\n",
       "      (conv1d): Conv1d(384, 768, kernel_size=(5,), stride=(1,), padding=same)\n",
       "      (batch_norm): BatchNorm1d(768, eps=1e-05, momentum=0.1, affine=True, track_running_stats=True)\n",
       "      (act): GELU(approximate='none')\n",
       "    )\n",
       "    (1): LikeBasenji2ConvBlock(\n",
       "      (conv1d): Conv1d(768, 768, kernel_size=(5,), stride=(1,), padding=same)\n",
       "      (batch_norm): BatchNorm1d(768, eps=1e-05, momentum=0.1, affine=True, track_running_stats=True)\n",
       "      (act): GELU(approximate='none')\n",
       "    )\n",
       "    (2): LikeBasenji2ConvBlock(\n",
       "      (conv1d): Conv1d(768, 768, kernel_size=(5,), stride=(1,), padding=same)\n",
       "      (batch_norm): BatchNorm1d(768, eps=1e-05, momentum=0.1, affine=True, track_running_stats=True)\n",
       "      (act): GELU(approximate='none')\n",
       "    )\n",
       "    (3): LikeBasenji2ConvBlock(\n",
       "      (conv1d): Conv1d(768, 768, kernel_size=(5,), stride=(1,), padding=same)\n",
       "      (batch_norm): BatchNorm1d(768, eps=1e-05, momentum=0.1, affine=True, track_running_stats=True)\n",
       "      (act): GELU(approximate='none')\n",
       "    )\n",
       "  )\n",
       "  (dilated_tower): Sequential(\n",
       "    (0): LikeBasenji2DilatedResConvBlock(\n",
       "      (conv1d): Conv1d(768, 384, kernel_size=(3,), stride=(1,), padding=same)\n",
       "      (conv1d_norm): BatchNorm1d(384, eps=1e-05, momentum=0.1, affine=True, track_running_stats=True)\n",
       "      (pointwise): Conv1d(384, 768, kernel_size=(1,), stride=(1,))\n",
       "      (pointwise_norm): BatchNorm1d(768, eps=1e-05, momentum=0.1, affine=True, track_running_stats=True)\n",
       "      (act): GELU(approximate='none')\n",
       "      (dropout): Dropout1d(p=0.3, inplace=False)\n",
       "    )\n",
       "    (1): LikeBasenji2DilatedResConvBlock(\n",
       "      (conv1d): Conv1d(768, 384, kernel_size=(3,), stride=(1,), padding=same)\n",
       "      (conv1d_norm): BatchNorm1d(384, eps=1e-05, momentum=0.1, affine=True, track_running_stats=True)\n",
       "      (pointwise): Conv1d(384, 768, kernel_size=(1,), stride=(1,))\n",
       "      (pointwise_norm): BatchNorm1d(768, eps=1e-05, momentum=0.1, affine=True, track_running_stats=True)\n",
       "      (act): GELU(approximate='none')\n",
       "      (dropout): Dropout1d(p=0.3, inplace=False)\n",
       "    )\n",
       "    (2): LikeBasenji2DilatedResConvBlock(\n",
       "      (conv1d): Conv1d(768, 384, kernel_size=(3,), stride=(1,), padding=same, dilation=(3,))\n",
       "      (conv1d_norm): BatchNorm1d(384, eps=1e-05, momentum=0.1, affine=True, track_running_stats=True)\n",
       "      (pointwise): Conv1d(384, 768, kernel_size=(1,), stride=(1,))\n",
       "      (pointwise_norm): BatchNorm1d(768, eps=1e-05, momentum=0.1, affine=True, track_running_stats=True)\n",
       "      (act): GELU(approximate='none')\n",
       "      (dropout): Dropout1d(p=0.3, inplace=False)\n",
       "    )\n",
       "    (3): LikeBasenji2DilatedResConvBlock(\n",
       "      (conv1d): Conv1d(768, 384, kernel_size=(3,), stride=(1,), padding=same, dilation=(5,))\n",
       "      (conv1d_norm): BatchNorm1d(384, eps=1e-05, momentum=0.1, affine=True, track_running_stats=True)\n",
       "      (pointwise): Conv1d(384, 768, kernel_size=(1,), stride=(1,))\n",
       "      (pointwise_norm): BatchNorm1d(768, eps=1e-05, momentum=0.1, affine=True, track_running_stats=True)\n",
       "      (act): GELU(approximate='none')\n",
       "      (dropout): Dropout1d(p=0.3, inplace=False)\n",
       "    )\n",
       "    (4): LikeBasenji2DilatedResConvBlock(\n",
       "      (conv1d): Conv1d(768, 384, kernel_size=(3,), stride=(1,), padding=same, dilation=(9,))\n",
       "      (conv1d_norm): BatchNorm1d(384, eps=1e-05, momentum=0.1, affine=True, track_running_stats=True)\n",
       "      (pointwise): Conv1d(384, 768, kernel_size=(1,), stride=(1,))\n",
       "      (pointwise_norm): BatchNorm1d(768, eps=1e-05, momentum=0.1, affine=True, track_running_stats=True)\n",
       "      (act): GELU(approximate='none')\n",
       "      (dropout): Dropout1d(p=0.3, inplace=False)\n",
       "    )\n",
       "    (5): LikeBasenji2DilatedResConvBlock(\n",
       "      (conv1d): Conv1d(768, 384, kernel_size=(3,), stride=(1,), padding=same, dilation=(16,))\n",
       "      (conv1d_norm): BatchNorm1d(384, eps=1e-05, momentum=0.1, affine=True, track_running_stats=True)\n",
       "      (pointwise): Conv1d(384, 768, kernel_size=(1,), stride=(1,))\n",
       "      (pointwise_norm): BatchNorm1d(768, eps=1e-05, momentum=0.1, affine=True, track_running_stats=True)\n",
       "      (act): GELU(approximate='none')\n",
       "      (dropout): Dropout1d(p=0.3, inplace=False)\n",
       "    )\n",
       "    (6): LikeBasenji2DilatedResConvBlock(\n",
       "      (conv1d): Conv1d(768, 384, kernel_size=(3,), stride=(1,), padding=same, dilation=(28,))\n",
       "      (conv1d_norm): BatchNorm1d(384, eps=1e-05, momentum=0.1, affine=True, track_running_stats=True)\n",
       "      (pointwise): Conv1d(384, 768, kernel_size=(1,), stride=(1,))\n",
       "      (pointwise_norm): BatchNorm1d(768, eps=1e-05, momentum=0.1, affine=True, track_running_stats=True)\n",
       "      (act): GELU(approximate='none')\n",
       "      (dropout): Dropout1d(p=0.3, inplace=False)\n",
       "    )\n",
       "    (7): LikeBasenji2DilatedResConvBlock(\n",
       "      (conv1d): Conv1d(768, 384, kernel_size=(3,), stride=(1,), padding=same, dilation=(50,))\n",
       "      (conv1d_norm): BatchNorm1d(384, eps=1e-05, momentum=0.1, affine=True, track_running_stats=True)\n",
       "      (pointwise): Conv1d(384, 768, kernel_size=(1,), stride=(1,))\n",
       "      (pointwise_norm): BatchNorm1d(768, eps=1e-05, momentum=0.1, affine=True, track_running_stats=True)\n",
       "      (act): GELU(approximate='none')\n",
       "      (dropout): Dropout1d(p=0.3, inplace=False)\n",
       "    )\n",
       "    (8): LikeBasenji2DilatedResConvBlock(\n",
       "      (conv1d): Conv1d(768, 384, kernel_size=(3,), stride=(1,), padding=same, dilation=(87,))\n",
       "      (conv1d_norm): BatchNorm1d(384, eps=1e-05, momentum=0.1, affine=True, track_running_stats=True)\n",
       "      (pointwise): Conv1d(384, 768, kernel_size=(1,), stride=(1,))\n",
       "      (pointwise_norm): BatchNorm1d(768, eps=1e-05, momentum=0.1, affine=True, track_running_stats=True)\n",
       "      (act): GELU(approximate='none')\n",
       "      (dropout): Dropout1d(p=0.3, inplace=False)\n",
       "    )\n",
       "    (9): LikeBasenji2DilatedResConvBlock(\n",
       "      (conv1d): Conv1d(768, 384, kernel_size=(3,), stride=(1,), padding=same, dilation=(153,))\n",
       "      (conv1d_norm): BatchNorm1d(384, eps=1e-05, momentum=0.1, affine=True, track_running_stats=True)\n",
       "      (pointwise): Conv1d(384, 768, kernel_size=(1,), stride=(1,))\n",
       "      (pointwise_norm): BatchNorm1d(768, eps=1e-05, momentum=0.1, affine=True, track_running_stats=True)\n",
       "      (act): GELU(approximate='none')\n",
       "      (dropout): Dropout1d(p=0.3, inplace=False)\n",
       "    )\n",
       "    (10): LikeBasenji2DilatedResConvBlock(\n",
       "      (conv1d): Conv1d(768, 384, kernel_size=(3,), stride=(1,), padding=same, dilation=(269,))\n",
       "      (conv1d_norm): BatchNorm1d(384, eps=1e-05, momentum=0.1, affine=True, track_running_stats=True)\n",
       "      (pointwise): Conv1d(384, 768, kernel_size=(1,), stride=(1,))\n",
       "      (pointwise_norm): BatchNorm1d(768, eps=1e-05, momentum=0.1, affine=True, track_running_stats=True)\n",
       "      (act): GELU(approximate='none')\n",
       "      (dropout): Dropout1d(p=0.3, inplace=False)\n",
       "    )\n",
       "  )\n",
       "  (projection): Conv1d(768, 960, kernel_size=(1,), stride=(1,), padding=same, bias=False)\n",
       "  (head): AdditiveMix(\n",
       "    (head_target): LinearProjection(\n",
       "      (pointwise_conv): Conv1d(960, 223, kernel_size=(1,), stride=(1,), padding=same, bias=False)\n",
       "    )\n",
       "    (head_control): LinearProjection(\n",
       "      (pointwise_conv): Conv1d(960, 223, kernel_size=(1,), stride=(1,), padding=same, bias=False)\n",
       "    )\n",
       "    (mix_coeff): SequenceLinearMix(\n",
       "      (gloabel_avg_pool): AdaptiveAvgPool1d(output_size=1)\n",
       "      (dense): Linear(in_features=960, out_features=223, bias=True)\n",
       "    )\n",
       "  )\n",
       ")"
      ]
     },
     "execution_count": 2,
     "metadata": {},
     "output_type": "execute_result"
    }
   ],
   "source": [
    "model = torch.load('/home/marc/PhD/PanRBPNet/models/model.LikeBasenji2.pt')\n",
    "model.eval()"
   ]
  },
  {
   "cell_type": "code",
   "execution_count": 3,
   "metadata": {},
   "outputs": [],
   "source": [
    "model.head = torch.nn.Identity()"
   ]
  },
  {
   "cell_type": "code",
   "execution_count": 4,
   "metadata": {},
   "outputs": [
    {
     "data": {
      "text/plain": [
       "torch.Size([1, 4, 400])"
      ]
     },
     "execution_count": 4,
     "metadata": {},
     "output_type": "execute_result"
    }
   ],
   "source": [
    "from parnet.utils import sequence_to_onehot\n",
    "\n",
    "seq = sequence_to_onehot('ACGT'*100).unsqueeze(0).float()\n",
    "seq.shape"
   ]
  },
  {
   "cell_type": "code",
   "execution_count": 7,
   "metadata": {},
   "outputs": [
    {
     "data": {
      "text/plain": [
       "torch.Size([1, 960, 400])"
      ]
     },
     "execution_count": 7,
     "metadata": {},
     "output_type": "execute_result"
    }
   ],
   "source": [
    "pred = model({'sequence': seq})\n",
    "pred.shape"
   ]
  },
  {
   "cell_type": "code",
   "execution_count": 13,
   "metadata": {},
   "outputs": [
    {
     "data": {
      "text/plain": [
       "torch.Size([1, 960])"
      ]
     },
     "execution_count": 13,
     "metadata": {},
     "output_type": "execute_result"
    }
   ],
   "source": [
    "class NoHeadModel(torch.nn.Module):\n",
    "    def __init__(self, model):\n",
    "        super().__init__()\n",
    "        self.model = model\n",
    "        self.model.head = torch.nn.Identity()\n",
    "        \n",
    "    def forward(self, x):\n",
    "        return self.model(x)\n",
    "    \n",
    "    def forward_mean_pool(self, x):\n",
    "        return self.model(x).mean(dim=-1)\n",
    "\n",
    "model_no_head = NoHeadModel(model)\n",
    "pred = model_no_head.forward_mean_pool({'sequence': seq})\n",
    "pred.shape"
   ]
  },
  {
   "cell_type": "code",
   "execution_count": null,
   "metadata": {},
   "outputs": [],
   "source": []
  },
  {
   "cell_type": "code",
   "execution_count": 9,
   "metadata": {},
   "outputs": [],
   "source": [
    "d = {'a': [1, 2, 3], 'b': [4, 5, 6]}"
   ]
  },
  {
   "cell_type": "code",
   "execution_count": 17,
   "metadata": {},
   "outputs": [
    {
     "data": {
      "text/html": [
       "<div>\n",
       "<style scoped>\n",
       "    .dataframe tbody tr th:only-of-type {\n",
       "        vertical-align: middle;\n",
       "    }\n",
       "\n",
       "    .dataframe tbody tr th {\n",
       "        vertical-align: top;\n",
       "    }\n",
       "\n",
       "    .dataframe thead th {\n",
       "        text-align: right;\n",
       "    }\n",
       "</style>\n",
       "<table border=\"1\" class=\"dataframe\">\n",
       "  <thead>\n",
       "    <tr style=\"text-align: right;\">\n",
       "      <th></th>\n",
       "      <th>dim0</th>\n",
       "      <th>dim1</th>\n",
       "      <th>dim2</th>\n",
       "    </tr>\n",
       "  </thead>\n",
       "  <tbody>\n",
       "    <tr>\n",
       "      <th>a</th>\n",
       "      <td>1</td>\n",
       "      <td>2</td>\n",
       "      <td>3</td>\n",
       "    </tr>\n",
       "    <tr>\n",
       "      <th>b</th>\n",
       "      <td>4</td>\n",
       "      <td>5</td>\n",
       "      <td>6</td>\n",
       "    </tr>\n",
       "  </tbody>\n",
       "</table>\n",
       "</div>"
      ],
      "text/plain": [
       "   dim0  dim1  dim2\n",
       "a     1     2     3\n",
       "b     4     5     6"
      ]
     },
     "execution_count": 17,
     "metadata": {},
     "output_type": "execute_result"
    }
   ],
   "source": [
    "import pandas as pd\n",
    "\n",
    "df = pd.DataFrame(d).T\n",
    "df.columns = df.columns.map(lambda i: f'dim{i}')\n",
    "df"
   ]
  }
 ],
 "metadata": {
  "kernelspec": {
   "display_name": "parnet",
   "language": "python",
   "name": "python3"
  },
  "language_info": {
   "codemirror_mode": {
    "name": "ipython",
    "version": 3
   },
   "file_extension": ".py",
   "mimetype": "text/x-python",
   "name": "python",
   "nbconvert_exporter": "python",
   "pygments_lexer": "ipython3",
   "version": "3.11.3"
  }
 },
 "nbformat": 4,
 "nbformat_minor": 2
}
