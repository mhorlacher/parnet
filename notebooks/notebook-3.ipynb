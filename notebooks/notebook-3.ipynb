{
 "cells": [
  {
   "cell_type": "code",
   "execution_count": 1,
   "metadata": {},
   "outputs": [
    {
     "name": "stderr",
     "output_type": "stream",
     "text": [
      "/home/marc/miniconda3/envs/torch/lib/python3.10/site-packages/tqdm/auto.py:22: TqdmWarning: IProgress not found. Please update jupyter and ipywidgets. See https://ipywidgets.readthedocs.io/en/stable/user_install.html\n",
      "  from .autonotebook import tqdm as notebook_tqdm\n"
     ]
    }
   ],
   "source": [
    "import pytorch_lightning as pl\n",
    "from pytorch_lightning import loggers as pl_loggers"
   ]
  },
  {
   "cell_type": "code",
   "execution_count": 2,
   "metadata": {},
   "outputs": [],
   "source": [
    "from torchrbpnet.data import tfrecord_to_dataloader, dummy_dataloader\n",
    "\n",
    "dataloader = dummy_dataloader(10)"
   ]
  },
  {
   "cell_type": "code",
   "execution_count": null,
   "metadata": {},
   "outputs": [],
   "source": []
  },
  {
   "cell_type": "code",
   "execution_count": 16,
   "metadata": {},
   "outputs": [
    {
     "name": "stdout",
     "output_type": "stream",
     "text": [
      "\n"
     ]
    }
   ],
   "source": [
    "# %%\n",
    "import torch\n",
    "import torch.nn as nn\n",
    "import pytorch_lightning as pl\n",
    "\n",
    "import torchmetrics\n",
    "from torchrbpnet.losses import MultinomialNLLLossFromLogits\n",
    "from torchrbpnet.metrics import BatchedPCC, MultinomialNLLFromLogits\n",
    "from torchrbpnet.networks import MultiRBPNet\n",
    "\n",
    "# %%\n",
    "class BatchIdx(torchmetrics.MeanMetric):\n",
    "    def __init__(self, *args, **kwargs):\n",
    "        super().__init__(*args, **kwargs)\n",
    "    \n",
    "    def update(self, batch_idx: torch.Tensor, *args, **kwargs):\n",
    "        # update (i.e. take mean)\n",
    "        super().update(batch_idx)\n",
    "\n",
    "# %%\n",
    "class Model(pl.LightningModule):\n",
    "    def __init__(self, network):\n",
    "        super().__init__()\n",
    "        self.network = network\n",
    "        self.loss_fn = MultinomialNLLLossFromLogits()\n",
    "        self.metrics = nn.ModuleDict({'loss': MultinomialNLLFromLogits(), 'pcc': BatchedPCC()}) \n",
    "        self.example_input_array = torch.rand(2, 4, 101)\n",
    "        self.test_metric = torchmetrics.MeanMetric() #BatchedPCC()\n",
    "\n",
    "        print(self.hparams)\n",
    "    \n",
    "    def forward(self, *args, **kwargs):\n",
    "        return self.network(*args, **kwargs)\n",
    "\n",
    "    def configure_optimizers(self):\n",
    "        optimizer = torch.optim.Adam(self.parameters(), lr=1e-3)\n",
    "        return optimizer\n",
    "\n",
    "    def training_step(self, batch, batch_idx, **kwargs):\n",
    "        x, y = batch\n",
    "        y_pred = self.forward(x)\n",
    "        loss = self.loss_fn(y, y_pred, dim=-2)\n",
    "        self.compute_and_log_metics(y_pred, y, partition='train')\n",
    "        return loss\n",
    "    \n",
    "    def training_epoch_end(self, *args, **kwargs):\n",
    "        self._reset_metrics()\n",
    "\n",
    "    def validation_epoch_end(self, *args, **kwargs):\n",
    "        self._reset_metrics()\n",
    "\n",
    "    def validation_step(self, batch, batch_idx):\n",
    "        x, y = batch\n",
    "        y_pred = self.forward(x)\n",
    "        self.compute_and_log_metics(y_pred, y, partition='val')\n",
    "    \n",
    "    def compute_and_log_metics(self, y_pred, y, partition=None):\n",
    "        on_step = False\n",
    "        if partition == 'train':\n",
    "            on_step = True\n",
    "\n",
    "        for name, metric in self.metrics.items():\n",
    "            metric(y_pred, y)\n",
    "            self.log(f'{partition}/{name}', metric.compute(), on_step=on_step, on_epoch=True, prog_bar=False)\n",
    "    \n",
    "    def _reset_metrics(self):\n",
    "        for metric in self.metrics.values():\n",
    "            metric.reset()\n",
    "\n",
    "model = Model(network=MultiRBPNet(n_tasks=7))"
   ]
  },
  {
   "cell_type": "code",
   "execution_count": 20,
   "metadata": {},
   "outputs": [],
   "source": [
    "metrics_module_dict = nn.ModuleDict({'loss': MultinomialNLLFromLogits(), 'pcc': BatchedPCC()})"
   ]
  },
  {
   "cell_type": "code",
   "execution_count": 23,
   "metadata": {},
   "outputs": [
    {
     "data": {
      "text/plain": [
       "BatchedPCC()"
      ]
     },
     "execution_count": 23,
     "metadata": {},
     "output_type": "execute_result"
    }
   ],
   "source": [
    "metrics_module_dict['pcc']"
   ]
  },
  {
   "cell_type": "code",
   "execution_count": 4,
   "metadata": {},
   "outputs": [],
   "source": [
    "# next(iter(model.modules()))"
   ]
  },
  {
   "cell_type": "code",
   "execution_count": 19,
   "metadata": {},
   "outputs": [
    {
     "name": "stderr",
     "output_type": "stream",
     "text": [
      "GPU available: True (cuda), used: False\n",
      "TPU available: False, using: 0 TPU cores\n",
      "IPU available: False, using: 0 IPUs\n",
      "HPU available: False, using: 0 HPUs\n",
      "\n",
      "  | Name        | Type                         | Params | In sizes    | Out sizes  \n",
      "-----------------------------------------------------------------------------------------\n",
      "0 | network     | MultiRBPNet                  | 1.8 M  | [2, 4, 101] | [2, 101, 7]\n",
      "1 | loss_fn     | MultinomialNLLLossFromLogits | 0      | ?           | ?          \n",
      "2 | test_metric | MeanMetric                   | 0      | ?           | ?          \n",
      "-----------------------------------------------------------------------------------------\n",
      "1.8 M     Trainable params\n",
      "0         Non-trainable params\n",
      "1.8 M     Total params\n",
      "7.138     Total estimated model params size (MB)\n"
     ]
    },
    {
     "name": "stdout",
     "output_type": "stream",
     "text": [
      "Epoch 9: : 20it [00:03,  6.32it/s, loss=728, v_num=]                       "
     ]
    },
    {
     "name": "stderr",
     "output_type": "stream",
     "text": [
      "`Trainer.fit` stopped: `max_epochs=10` reached.\n"
     ]
    },
    {
     "name": "stdout",
     "output_type": "stream",
     "text": [
      "Epoch 9: : 20it [00:03,  6.05it/s, loss=728, v_num=]\n"
     ]
    }
   ],
   "source": [
    "import datetime\n",
    "from pytorch_lightning import loggers as pl_loggers\n",
    "from pytorch_lightning import Trainer\n",
    "from pytorch_lightning.callbacks import ModelCheckpoint, EarlyStopping, RichProgressBar\n",
    "\n",
    "root_log_dir = f'logs/{datetime.datetime.now().strftime(\"%Y%m%d-%H%M%S\")}'\n",
    "loggers = [\n",
    "    pl_loggers.TensorBoardLogger(root_log_dir+'/tensorboard', name='', version='', log_graph=True),\n",
    "    # pl_loggers.CSVLogger(root_log_dir+'/tensorboard', name='', version=''),\n",
    "]\n",
    "\n",
    "checkpoint_callback = ModelCheckpoint(dirpath=f'{root_log_dir}/checkpoints', every_n_epochs=1, save_last=True)\n",
    "\n",
    "early_stop_callback = EarlyStopping(monitor=\"val/loss\", min_delta=0.00, patience=3, verbose=False, mode=\"min\")\n",
    "\n",
    "bar = RichProgressBar()\n",
    "\n",
    "trainer = pl.Trainer(default_root_dir=root_log_dir, max_epochs=10, logger=loggers, callbacks=[checkpoint_callback, early_stop_callback])\n",
    "trainer.fit(model=model, train_dataloaders=dataloader, val_dataloaders=dataloader)\n",
    "torch.save(model, 'model.pt')"
   ]
  },
  {
   "cell_type": "code",
   "execution_count": 6,
   "metadata": {},
   "outputs": [],
   "source": [
    "m = torchmetrics.MeanMetric()"
   ]
  },
  {
   "cell_type": "code",
   "execution_count": 7,
   "metadata": {},
   "outputs": [
    {
     "data": {
      "text/plain": [
       "tensor(3.)"
      ]
     },
     "execution_count": 7,
     "metadata": {},
     "output_type": "execute_result"
    }
   ],
   "source": [
    "m(1)\n",
    "m(2)\n",
    "m(3)"
   ]
  },
  {
   "cell_type": "code",
   "execution_count": 11,
   "metadata": {},
   "outputs": [
    {
     "data": {
      "text/plain": [
       "tensor(2.)"
      ]
     },
     "execution_count": 11,
     "metadata": {},
     "output_type": "execute_result"
    }
   ],
   "source": [
    "m.reset()\n",
    "m(1)\n",
    "m(2)"
   ]
  },
  {
   "cell_type": "code",
   "execution_count": 13,
   "metadata": {},
   "outputs": [
    {
     "data": {
      "text/plain": [
       "tensor(3.)"
      ]
     },
     "execution_count": 13,
     "metadata": {},
     "output_type": "execute_result"
    }
   ],
   "source": [
    "m([2,4])"
   ]
  },
  {
   "cell_type": "code",
   "execution_count": 10,
   "metadata": {},
   "outputs": [
    {
     "data": {
      "text/plain": [
       "9.5"
      ]
     },
     "execution_count": 10,
     "metadata": {},
     "output_type": "execute_result"
    }
   ],
   "source": [
    "sum(range(20))/20"
   ]
  }
 ],
 "metadata": {
  "interpreter": {
   "hash": "7c2a629b5d736a8b2a3c0111829bdedfa4bd0b48e49067d38bd73bb54a8250f9"
  },
  "kernelspec": {
   "display_name": "Python 3.10.9 ('torch')",
   "language": "python",
   "name": "python3"
  },
  "language_info": {
   "codemirror_mode": {
    "name": "ipython",
    "version": 3
   },
   "file_extension": ".py",
   "mimetype": "text/x-python",
   "name": "python",
   "nbconvert_exporter": "python",
   "pygments_lexer": "ipython3",
   "version": "3.10.9"
  },
  "orig_nbformat": 4
 },
 "nbformat": 4,
 "nbformat_minor": 2
}
