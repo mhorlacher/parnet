{
 "cells": [
  {
   "cell_type": "code",
   "execution_count": 8,
   "metadata": {},
   "outputs": [
    {
     "data": {
      "text/plain": [
       "1"
      ]
     },
     "execution_count": 8,
     "metadata": {},
     "output_type": "execute_result"
    }
   ],
   "source": [
    "import torch\n",
    "int(torch.round(torch.tensor(0.7)))"
   ]
  },
  {
   "cell_type": "code",
   "execution_count": 15,
   "metadata": {},
   "outputs": [
    {
     "name": "stdout",
     "output_type": "stream",
     "text": [
      "1\n",
      "1\n",
      "1\n",
      "1\n",
      "1\n",
      "1\n",
      "1\n",
      "1\n",
      "1\n",
      "1\n"
     ]
    }
   ],
   "source": [
    "d = 1.0\n",
    "for i in range(10):\n",
    "    print(int(torch.round(torch.tensor(d**i))))"
   ]
  },
  {
   "cell_type": "code",
   "execution_count": null,
   "metadata": {},
   "outputs": [],
   "source": [
    "import pytorch_lightning as pl\n",
    "from pytorch_lightning import loggers as pl_loggers"
   ]
  },
  {
   "cell_type": "code",
   "execution_count": null,
   "metadata": {},
   "outputs": [],
   "source": [
    "import os\n",
    "import torch\n",
    "print(os.getcwd())\n",
    "\n",
    "from torchrbpnet.data import tfrecord_to_dataloader, dummy_dataloader\n",
    "from torchrbpnet.data import datasets\n",
    "\n",
    "# dataloader = torch.utils.data.DataLoader(datasets.TFIterableDataset('../example/head.tfrecord', batch_size=2, shuffle=100), batch_size=None)"
   ]
  },
  {
   "cell_type": "code",
   "execution_count": null,
   "metadata": {},
   "outputs": [],
   "source": [
    "import torchmetrics\n",
    "\n",
    "class BatchedPearsonCorrCoef(torchmetrics.MeanMetric):\n",
    "    def __init__(self, min_height=2, min_count=None):\n",
    "        super(BatchedPearsonCorrCoef, self).__init__()\n",
    "\n",
    "        self.min_height = min_height\n",
    "        self.min_count = min_count\n",
    "\n",
    "    def update(self, y_pred: torch.Tensor, y: torch.Tensor):\n",
    "        if y_pred.shape != y.shape:\n",
    "            raise ValueError('shapes y_pred {y_pred.shape} and y {y.shape} are not the same. ')\n",
    "\n",
    "        cc_values = self.compute_cc(y_pred, y)\n",
    "        cc_mean = self.compute_mean(cc_values, y)\n",
    "\n",
    "        # update\n",
    "        super().update(cc_mean)\n",
    "    \n",
    "    def compute_cc(self, y_pred: torch.Tensor, y: torch.Tensor):\n",
    "        values = []\n",
    "        for i in range(y.shape[0]):\n",
    "            values.append(torchmetrics.functional.pearson_corrcoef(y[i], y_pred[i]))\n",
    "        # stack to (batch_size x ...) - at this point the shape should be (batch_size x experiments\n",
    "        return torch.stack(values)\n",
    "\n",
    "    def compute_mean(self, values: torch.Tensor, y: torch.Tensor):\n",
    "        # create boolean tensor of entries that are *not* NaNs\n",
    "        values_is_not_nan_mask = torch.logical_not(torch.isnan(values))\n",
    "        # convert nan's to 0\n",
    "        values = torch.nan_to_num(values, 0.0)\n",
    "\n",
    "        # check if required height is reached per experiment\n",
    "        if self.min_height is not None:\n",
    "            # should be shape (batch_size, experiments)\n",
    "            y_min_height_mask = (torch.max(y, dim=-2).values >= self.min_height)\n",
    "        else:\n",
    "            y_min_height_mask = torch.ones(*values.shape)\n",
    "        \n",
    "        # check if required count is reached per experiment\n",
    "        if self.min_count is not None:\n",
    "            # should be shape (batch_size, experiments)\n",
    "            y_min_count_mask = (torch.sum(y, dim=-2) >= self.min_count)\n",
    "        else:\n",
    "            y_min_count_mask = torch.ones(*values.shape)\n",
    "        \n",
    "        # boolean mask indicating which experiment (in each batch) passed nan, heigh and count (and is thus used for the final mean PCC)\n",
    "        passed_boolean_mask = torch.sum(torch.stack([values_is_not_nan_mask, y_min_height_mask, y_min_count_mask]), dim=0) > 0\n",
    "\n",
    "        # mask out (i.e. zero) all PCC values that did not pass\n",
    "        values_masked = torch.mul(values, passed_boolean_mask.to(torch.float32))\n",
    "\n",
    "        # compute mean by only dividing by #-elements that passed\n",
    "        values_mean = torch.sum(values_masked)/torch.sum(passed_boolean_mask)\n",
    "\n",
    "        # if ignore_nan:\n",
    "        #     # only divide by #-elements not NaN\n",
    "        #     values_mean = torch.sum(values)/torch.sum(values_is_not_nan)\n",
    "        # else:\n",
    "        #     values_mean = torch.mean(values)\n",
    "        \n",
    "        return values_mean"
   ]
  },
  {
   "cell_type": "code",
   "execution_count": null,
   "metadata": {},
   "outputs": [],
   "source": [
    "esm_masked_dataset = datasets.MeanESMEmbeddingMaskedTFIterableDataset(embedding_matrix_filepath='../example/esm2_t33_650M_UR50D.ENCODE.idx2mean.pt', filepath='../example/head.tfrecord', batch_size=2, shuffle=100)\n",
    "dataloader = torch.utils.data.DataLoader(esm_masked_dataset, batch_size=None)\n",
    "print(next(iter(dataloader))[0].keys())"
   ]
  },
  {
   "cell_type": "code",
   "execution_count": null,
   "metadata": {},
   "outputs": [],
   "source": [
    "# %%\n",
    "import torch\n",
    "import torch.nn as nn\n",
    "import pytorch_lightning as pl\n",
    "\n",
    "import torchmetrics\n",
    "from torchrbpnet.losses import MultinomialNLLLossFromLogits\n",
    "from torchrbpnet.metrics import MultinomialNLLFromLogits #BatchedPCC\n",
    "from torchrbpnet.networks import MultiRBPNet, ProteinEmbeddingMultiRBPNet\n",
    "\n",
    "class Model(pl.LightningModule):\n",
    "    def __init__(self, network, metrics=None, optimizer=torch.optim.Adam):\n",
    "        super().__init__()\n",
    "        self.network = network\n",
    "        self.loss_fn = MultinomialNLLLossFromLogits()\n",
    "        \n",
    "        # metrics\n",
    "        if metrics is None:\n",
    "            self.metrics = nn.ModuleDict({})\n",
    "        else:\n",
    "            self.metrics = nn.ModuleDict(metrics)\n",
    "        \n",
    "        # optimizer\n",
    "        self.optimizer_cls = optimizer\n",
    "    \n",
    "    def forward(self, *args, **kwargs):\n",
    "        return self.network(*args, **kwargs)\n",
    "\n",
    "    def configure_optimizers(self):\n",
    "        optimizer = self.optimizer_cls(self.parameters())\n",
    "        return optimizer\n",
    "\n",
    "    def training_step(self, batch, batch_idx, **kwargs):\n",
    "        inputs, y = batch\n",
    "        y = y['total']\n",
    "        y_pred = self.forward(inputs)\n",
    "        loss = self.loss_fn(y, y_pred, dim=-2)\n",
    "        self.compute_and_log_metics(y_pred, y, partition='train')\n",
    "        return loss\n",
    "    \n",
    "    def training_epoch_end(self, *args, **kwargs):\n",
    "        self._reset_metrics()\n",
    "\n",
    "    def validation_epoch_end(self, *args, **kwargs):\n",
    "        self._reset_metrics()\n",
    "\n",
    "    def validation_step(self, batch, batch_idx):\n",
    "        inputs, y = batch\n",
    "        y = y['total']\n",
    "        y_pred = self.forward(inputs)\n",
    "        self.compute_and_log_metics(y_pred, y, partition='val')\n",
    "    \n",
    "    def compute_and_log_metics(self, y_pred, y, partition=None):\n",
    "        on_step = False\n",
    "        if partition == 'train':\n",
    "            on_step = True\n",
    "\n",
    "        for name, metric in self.metrics.items():\n",
    "            metric(y_pred, y)\n",
    "            self.log(f'{partition}/{name}', metric.compute(), on_step=on_step, on_epoch=True, prog_bar=False)\n",
    "    \n",
    "    def _reset_metrics(self):\n",
    "        for metric in self.metrics.values():\n",
    "            metric.reset()\n",
    "\n",
    "model = Model(network=MultiRBPNet(n_tasks=223)) # _example_input_shape=next(iter(dataloader))[0].shape\n",
    "# model = Model(network=ProteinEmbeddingMultiRBPNet())"
   ]
  },
  {
   "cell_type": "code",
   "execution_count": null,
   "metadata": {},
   "outputs": [],
   "source": [
    "model.configure_optimizers()"
   ]
  },
  {
   "cell_type": "code",
   "execution_count": null,
   "metadata": {},
   "outputs": [],
   "source": [
    "example = next(iter(dataloader))"
   ]
  },
  {
   "cell_type": "code",
   "execution_count": null,
   "metadata": {},
   "outputs": [],
   "source": [
    "model(example[0]).shape"
   ]
  },
  {
   "cell_type": "code",
   "execution_count": null,
   "metadata": {},
   "outputs": [],
   "source": [
    "# optimizer = torch.optim.Adam()"
   ]
  },
  {
   "cell_type": "code",
   "execution_count": null,
   "metadata": {},
   "outputs": [],
   "source": [
    "import datetime\n",
    "from pytorch_lightning import loggers as pl_loggers\n",
    "from pytorch_lightning import Trainer\n",
    "from pytorch_lightning.callbacks import ModelCheckpoint, EarlyStopping, RichProgressBar, LearningRateMonitor\n",
    "\n",
    "root_log_dir = f'logs/{datetime.datetime.now().strftime(\"%Y%m%d-%H%M%S\")}'\n",
    "loggers = [\n",
    "    pl_loggers.TensorBoardLogger(root_log_dir+'/tensorboard', name='', version='', log_graph=True),\n",
    "    # pl_loggers.CSVLogger(root_log_dir+'/tensorboard', name='', version=''),\n",
    "]\n",
    "\n",
    "checkpoint_callback = ModelCheckpoint(dirpath=f'{root_log_dir}/checkpoints', every_n_epochs=1, save_last=True)\n",
    "\n",
    "early_stop_callback = EarlyStopping(monitor=\"val/loss\", min_delta=0.00, patience=3, verbose=False, mode=\"min\")\n",
    "\n",
    "bar = RichProgressBar()\n",
    "\n",
    "trainer = pl.Trainer(default_root_dir=root_log_dir, max_epochs=2, logger=loggers, callbacks=[checkpoint_callback, early_stop_callback, LearningRateMonitor('step', log_momentum=True)])\n",
    "trainer.fit(model=model, train_dataloaders=dataloader, val_dataloaders=dataloader)\n",
    "torch.save(model.network, 'test.pt')"
   ]
  },
  {
   "cell_type": "code",
   "execution_count": null,
   "metadata": {},
   "outputs": [],
   "source": [
    "model.optimizers()"
   ]
  }
 ],
 "metadata": {
  "interpreter": {
   "hash": "7c2a629b5d736a8b2a3c0111829bdedfa4bd0b48e49067d38bd73bb54a8250f9"
  },
  "kernelspec": {
   "display_name": "Python 3.10.9 ('torch')",
   "language": "python",
   "name": "python3"
  },
  "language_info": {
   "codemirror_mode": {
    "name": "ipython",
    "version": 3
   },
   "file_extension": ".py",
   "mimetype": "text/x-python",
   "name": "python",
   "nbconvert_exporter": "python",
   "pygments_lexer": "ipython3",
   "version": "3.10.9"
  },
  "orig_nbformat": 4
 },
 "nbformat": 4,
 "nbformat_minor": 2
}
