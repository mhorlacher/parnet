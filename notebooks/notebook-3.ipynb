{
 "cells": [
  {
   "cell_type": "code",
   "execution_count": 1,
   "metadata": {},
   "outputs": [
    {
     "name": "stderr",
     "output_type": "stream",
     "text": [
      "/home/marc/miniconda3/envs/torch/lib/python3.10/site-packages/tqdm/auto.py:22: TqdmWarning: IProgress not found. Please update jupyter and ipywidgets. See https://ipywidgets.readthedocs.io/en/stable/user_install.html\n",
      "  from .autonotebook import tqdm as notebook_tqdm\n"
     ]
    }
   ],
   "source": [
    "import pytorch_lightning as pl\n",
    "from pytorch_lightning import loggers as pl_loggers"
   ]
  },
  {
   "cell_type": "code",
   "execution_count": 2,
   "metadata": {},
   "outputs": [
    {
     "name": "stdout",
     "output_type": "stream",
     "text": [
      "/home/marc/PhD/TorchRBPNet/notebooks\n",
      "WARNING:tensorflow:From /home/marc/miniconda3/envs/torch/lib/python3.10/site-packages/tensorflow/python/autograph/pyct/static_analysis/liveness.py:83: Analyzer.lamba_check (from tensorflow.python.autograph.pyct.static_analysis.liveness) is deprecated and will be removed after 2023-09-23.\n",
      "Instructions for updating:\n",
      "Lambda fuctions will be no more assumed to be used in the statement where they are used, or at least in the same block. https://github.com/tensorflow/tensorflow/issues/56089\n"
     ]
    }
   ],
   "source": [
    "import os\n",
    "print(os.getcwd())\n",
    "\n",
    "from torchrbpnet.data import tfrecord_to_dataloader, dummy_dataloader\n",
    "\n",
    "dataloader = tfrecord_to_dataloader('../example/head.tfrecord')"
   ]
  },
  {
   "cell_type": "code",
   "execution_count": null,
   "metadata": {},
   "outputs": [],
   "source": []
  },
  {
   "cell_type": "code",
   "execution_count": 3,
   "metadata": {},
   "outputs": [],
   "source": [
    "# %%\n",
    "import torch\n",
    "import torch.nn as nn\n",
    "import pytorch_lightning as pl\n",
    "\n",
    "import torchmetrics\n",
    "from torchrbpnet.losses import MultinomialNLLLossFromLogits\n",
    "from torchrbpnet.metrics import BatchedPCC, MultinomialNLLFromLogits\n",
    "from torchrbpnet.networks import MultiRBPNet\n",
    "\n",
    "# %%\n",
    "class BatchIdx(torchmetrics.MeanMetric):\n",
    "    def __init__(self, *args, **kwargs):\n",
    "        super().__init__(*args, **kwargs)\n",
    "    \n",
    "    def update(self, batch_idx: torch.Tensor, *args, **kwargs):\n",
    "        # update (i.e. take mean)\n",
    "        super().update(batch_idx)\n",
    "\n",
    "# %%\n",
    "# class Model(pl.LightningModule):\n",
    "#     def __init__(self, network):\n",
    "#         super().__init__()\n",
    "#         self.network = network\n",
    "#         self.loss_fn = MultinomialNLLLossFromLogits()\n",
    "#         self.metrics = nn.ModuleDict({'loss': MultinomialNLLFromLogits(), 'pcc': BatchedPCC()}) \n",
    "#         self.example_input_array = torch.rand(2, 4, 101)\n",
    "#         self.test_metric = torchmetrics.MeanMetric() #BatchedPCC()\n",
    "\n",
    "#         print(self.hparams)\n",
    "    \n",
    "#     def forward(self, *args, **kwargs):\n",
    "#         return self.network(*args, **kwargs)\n",
    "\n",
    "#     def configure_optimizers(self):\n",
    "#         optimizer = torch.optim.Adam(self.parameters(), lr=1e-3)\n",
    "#         return optimizer\n",
    "\n",
    "#     def training_step(self, batch, batch_idx, **kwargs):\n",
    "#         x, y = batch\n",
    "#         y_pred = self.forward(x)\n",
    "#         loss = self.loss_fn(y, y_pred, dim=-2)\n",
    "#         self.compute_and_log_metics(y_pred, y, partition='train')\n",
    "#         return loss\n",
    "    \n",
    "#     def training_epoch_end(self, *args, **kwargs):\n",
    "#         self._reset_metrics()\n",
    "\n",
    "#     def validation_epoch_end(self, *args, **kwargs):\n",
    "#         self._reset_metrics()\n",
    "\n",
    "#     def validation_step(self, batch, batch_idx):\n",
    "#         x, y = batch\n",
    "#         y_pred = self.forward(x)\n",
    "#         self.compute_and_log_metics(y_pred, y, partition='val')\n",
    "    \n",
    "#     def compute_and_log_metics(self, y_pred, y, partition=None):\n",
    "#         on_step = False\n",
    "#         if partition == 'train':\n",
    "#             on_step = True\n",
    "\n",
    "#         for name, metric in self.metrics.items():\n",
    "#             metric(y_pred, y)\n",
    "#             self.log(f'{partition}/{name}', metric.compute(), on_step=on_step, on_epoch=True, prog_bar=False)\n",
    "    \n",
    "#     def _reset_metrics(self):\n",
    "#         for metric in self.metrics.values():\n",
    "#             metric.reset()\n",
    "\n",
    "class Model(pl.LightningModule):\n",
    "    def __init__(self, network, _example_input_shape):\n",
    "        super().__init__()\n",
    "        self.network = network\n",
    "        self.loss_fn = MultinomialNLLLossFromLogits()\n",
    "        # self.metrics = nn.ModuleDict({'loss': MultinomialNLLFromLogits(), 'pcc': BatchedPCC()}) # This has to be wrapped in a nn.ModuleDict (otherwise .to_device has to be called manually on metrics)\n",
    "        self.metrics = nn.ModuleDict({'loss': MultinomialNLLFromLogits(), 'pcc': BatchedPCC()})\n",
    "        # self.example_input_array = torch.rand(*_example_input_shape)\n",
    "    \n",
    "    def forward(self, *args, **kwargs):\n",
    "        return self.network(*args, **kwargs)\n",
    "\n",
    "    def configure_optimizers(self):\n",
    "        optimizer = torch.optim.Adam(self.parameters(), lr=1e-3)\n",
    "        return optimizer\n",
    "\n",
    "    def training_step(self, batch, batch_idx, **kwargs):\n",
    "        x, y = batch\n",
    "        y_pred = self.forward(x)\n",
    "        loss = self.loss_fn(y, y_pred, dim=-2)\n",
    "        self.compute_and_log_metics(y_pred, y, partition='train')\n",
    "        return loss\n",
    "    \n",
    "    def training_epoch_end(self, *args, **kwargs):\n",
    "        self._reset_metrics()\n",
    "\n",
    "    def validation_epoch_end(self, *args, **kwargs):\n",
    "        self._reset_metrics()\n",
    "\n",
    "    def validation_step(self, batch, batch_idx):\n",
    "        x, y = batch\n",
    "        y_pred = self.forward(x)\n",
    "        self.compute_and_log_metics(y_pred, y, partition='val')\n",
    "    \n",
    "    def compute_and_log_metics(self, y_pred, y, partition=None):\n",
    "        on_step = False\n",
    "        if partition == 'train':\n",
    "            on_step = True\n",
    "\n",
    "        for name, metric in self.metrics.items():\n",
    "            metric(y_pred, y)\n",
    "            self.log(f'{partition}/{name}', metric.compute(), on_step=on_step, on_epoch=True, prog_bar=False)\n",
    "    \n",
    "    def _reset_metrics(self):\n",
    "        for metric in self.metrics.values():\n",
    "            metric.reset()\n",
    "\n",
    "model = Model(network=MultiRBPNet(n_tasks=223), _example_input_shape=next(iter(dataloader))[0].shape)"
   ]
  },
  {
   "cell_type": "code",
   "execution_count": 4,
   "metadata": {},
   "outputs": [
    {
     "name": "stdout",
     "output_type": "stream",
     "text": [
      "torch.Size([5, 1000, 223])\n"
     ]
    },
    {
     "name": "stderr",
     "output_type": "stream",
     "text": [
      "/home/marc/miniconda3/envs/torch/lib/python3.10/site-packages/torch/nn/modules/conv.py:309: UserWarning: Using padding='same' with even kernel lengths and odd dilation may require a zero-padded copy of the input be created (Triggered internally at ../aten/src/ATen/native/Convolution.cpp:895.)\n",
      "  return F.conv1d(input, weight, bias, self.stride,\n"
     ]
    },
    {
     "name": "stdout",
     "output_type": "stream",
     "text": [
      "torch.Size([5, 1000, 223])\n"
     ]
    }
   ],
   "source": [
    "print(next(iter(dataloader))[1].shape)\n",
    "print(model(next(iter(dataloader))[0]).shape)"
   ]
  },
  {
   "cell_type": "code",
   "execution_count": 5,
   "metadata": {},
   "outputs": [
    {
     "name": "stderr",
     "output_type": "stream",
     "text": [
      "GPU available: True (cuda), used: False\n",
      "TPU available: False, using: 0 TPU cores\n",
      "IPU available: False, using: 0 IPUs\n",
      "HPU available: False, using: 0 HPUs\n",
      "/home/marc/miniconda3/envs/torch/lib/python3.10/site-packages/pytorch_lightning/trainer/setup.py:176: PossibleUserWarning: GPU available but not used. Set `accelerator` and `devices` using `Trainer(accelerator='gpu', devices=1)`.\n",
      "  rank_zero_warn(\n",
      "\n",
      "  | Name    | Type                         | Params\n",
      "---------------------------------------------------------\n",
      "0 | network | MultiRBPNet                  | 1.9 M \n",
      "1 | loss_fn | MultinomialNLLLossFromLogits | 0     \n",
      "2 | metrics | ModuleDict                   | 0     \n",
      "---------------------------------------------------------\n",
      "1.9 M     Trainable params\n",
      "0         Non-trainable params\n",
      "1.9 M     Total params\n",
      "7.491     Total estimated model params size (MB)\n",
      "/home/marc/miniconda3/envs/torch/lib/python3.10/site-packages/pytorch_lightning/loggers/tensorboard.py:188: UserWarning: Could not log computational graph to TensorBoard: The `model.example_input_array` attribute is not set or `input_array` was not given.\n",
      "  rank_zero_warn(\n"
     ]
    },
    {
     "name": "stdout",
     "output_type": "stream",
     "text": [
      "Sanity Checking DataLoader 0:   0%|          | 0/2 [00:00<?, ?it/s]"
     ]
    },
    {
     "name": "stderr",
     "output_type": "stream",
     "text": [
      "/home/marc/miniconda3/envs/torch/lib/python3.10/site-packages/pytorch_lightning/trainer/connectors/data_connector.py:224: PossibleUserWarning: The dataloader, val_dataloader 0, does not have many workers which may be a bottleneck. Consider increasing the value of the `num_workers` argument` (try 8 which is the number of cpus on this machine) in the `DataLoader` init to improve performance.\n",
      "  rank_zero_warn(\n"
     ]
    },
    {
     "name": "stdout",
     "output_type": "stream",
     "text": [
      "                                                                           "
     ]
    },
    {
     "name": "stderr",
     "output_type": "stream",
     "text": [
      "/home/marc/miniconda3/envs/torch/lib/python3.10/site-packages/pytorch_lightning/trainer/connectors/data_connector.py:224: PossibleUserWarning: The dataloader, train_dataloader, does not have many workers which may be a bottleneck. Consider increasing the value of the `num_workers` argument` (try 8 which is the number of cpus on this machine) in the `DataLoader` init to improve performance.\n",
      "  rank_zero_warn(\n"
     ]
    },
    {
     "name": "stdout",
     "output_type": "stream",
     "text": [
      "Epoch 1: : 2it [00:01,  1.26it/s, loss=49.1, v_num=]"
     ]
    },
    {
     "name": "stderr",
     "output_type": "stream",
     "text": [
      "`Trainer.fit` stopped: `max_epochs=2` reached.\n"
     ]
    },
    {
     "name": "stdout",
     "output_type": "stream",
     "text": [
      "Epoch 1: : 2it [00:01,  1.12it/s, loss=49.1, v_num=]\n"
     ]
    }
   ],
   "source": [
    "import datetime\n",
    "from pytorch_lightning import loggers as pl_loggers\n",
    "from pytorch_lightning import Trainer\n",
    "from pytorch_lightning.callbacks import ModelCheckpoint, EarlyStopping, RichProgressBar\n",
    "\n",
    "root_log_dir = f'logs/{datetime.datetime.now().strftime(\"%Y%m%d-%H%M%S\")}'\n",
    "loggers = [\n",
    "    pl_loggers.TensorBoardLogger(root_log_dir+'/tensorboard', name='', version='', log_graph=True),\n",
    "    # pl_loggers.CSVLogger(root_log_dir+'/tensorboard', name='', version=''),\n",
    "]\n",
    "\n",
    "checkpoint_callback = ModelCheckpoint(dirpath=f'{root_log_dir}/checkpoints', every_n_epochs=1, save_last=True)\n",
    "\n",
    "early_stop_callback = EarlyStopping(monitor=\"val/loss\", min_delta=0.00, patience=3, verbose=False, mode=\"min\")\n",
    "\n",
    "bar = RichProgressBar()\n",
    "\n",
    "trainer = pl.Trainer(default_root_dir=root_log_dir, max_epochs=2, logger=loggers, callbacks=[checkpoint_callback, early_stop_callback])\n",
    "trainer.fit(model=model, train_dataloaders=dataloader, val_dataloaders=dataloader)\n",
    "# torch.save(model, 'model.pt')"
   ]
  },
  {
   "cell_type": "code",
   "execution_count": 9,
   "metadata": {},
   "outputs": [
    {
     "data": {
      "text/plain": [
       "Model(\n",
       "  (network): MultiRBPNet(\n",
       "    (body): Sequential(\n",
       "      (0): Conv1DFirstLayer(\n",
       "        (conv1d): Conv1d(4, 256, kernel_size=(6,), stride=(1,), padding=same)\n",
       "        (act): ReLU()\n",
       "      )\n",
       "      (1): Conv1DResBlock(\n",
       "        (conv1d): Conv1d(256, 256, kernel_size=(3,), stride=(1,), padding=same)\n",
       "        (batch_norm): BatchNorm1d(256, eps=1e-05, momentum=0.1, affine=True, track_running_stats=True)\n",
       "        (act): ReLU()\n",
       "        (dropout): Dropout(p=0.25, inplace=False)\n",
       "      )\n",
       "      (2): Conv1DResBlock(\n",
       "        (conv1d): Conv1d(256, 256, kernel_size=(3,), stride=(1,), padding=same, dilation=(2,))\n",
       "        (batch_norm): BatchNorm1d(256, eps=1e-05, momentum=0.1, affine=True, track_running_stats=True)\n",
       "        (act): ReLU()\n",
       "        (dropout): Dropout(p=0.25, inplace=False)\n",
       "      )\n",
       "      (3): Conv1DResBlock(\n",
       "        (conv1d): Conv1d(256, 256, kernel_size=(3,), stride=(1,), padding=same, dilation=(4,))\n",
       "        (batch_norm): BatchNorm1d(256, eps=1e-05, momentum=0.1, affine=True, track_running_stats=True)\n",
       "        (act): ReLU()\n",
       "        (dropout): Dropout(p=0.25, inplace=False)\n",
       "      )\n",
       "      (4): Conv1DResBlock(\n",
       "        (conv1d): Conv1d(256, 256, kernel_size=(3,), stride=(1,), padding=same, dilation=(8,))\n",
       "        (batch_norm): BatchNorm1d(256, eps=1e-05, momentum=0.1, affine=True, track_running_stats=True)\n",
       "        (act): ReLU()\n",
       "        (dropout): Dropout(p=0.25, inplace=False)\n",
       "      )\n",
       "      (5): Conv1DResBlock(\n",
       "        (conv1d): Conv1d(256, 256, kernel_size=(3,), stride=(1,), padding=same, dilation=(16,))\n",
       "        (batch_norm): BatchNorm1d(256, eps=1e-05, momentum=0.1, affine=True, track_running_stats=True)\n",
       "        (act): ReLU()\n",
       "        (dropout): Dropout(p=0.25, inplace=False)\n",
       "      )\n",
       "      (6): Conv1DResBlock(\n",
       "        (conv1d): Conv1d(256, 256, kernel_size=(3,), stride=(1,), padding=same, dilation=(32,))\n",
       "        (batch_norm): BatchNorm1d(256, eps=1e-05, momentum=0.1, affine=True, track_running_stats=True)\n",
       "        (act): ReLU()\n",
       "        (dropout): Dropout(p=0.25, inplace=False)\n",
       "      )\n",
       "      (7): Conv1DResBlock(\n",
       "        (conv1d): Conv1d(256, 256, kernel_size=(3,), stride=(1,), padding=same, dilation=(64,))\n",
       "        (batch_norm): BatchNorm1d(256, eps=1e-05, momentum=0.1, affine=True, track_running_stats=True)\n",
       "        (act): ReLU()\n",
       "        (dropout): Dropout(p=0.25, inplace=False)\n",
       "      )\n",
       "      (8): Conv1DResBlock(\n",
       "        (conv1d): Conv1d(256, 256, kernel_size=(3,), stride=(1,), padding=same, dilation=(128,))\n",
       "        (batch_norm): BatchNorm1d(256, eps=1e-05, momentum=0.1, affine=True, track_running_stats=True)\n",
       "        (act): ReLU()\n",
       "        (dropout): Dropout(p=0.25, inplace=False)\n",
       "      )\n",
       "      (9): Conv1DResBlock(\n",
       "        (conv1d): Conv1d(256, 256, kernel_size=(3,), stride=(1,), padding=same, dilation=(256,))\n",
       "        (batch_norm): BatchNorm1d(256, eps=1e-05, momentum=0.1, affine=True, track_running_stats=True)\n",
       "        (act): ReLU()\n",
       "        (dropout): Dropout(p=0.25, inplace=False)\n",
       "      )\n",
       "    )\n",
       "    (latent_rna_projection): LinearProjection(\n",
       "      (linear): Linear(in_features=256, out_features=128, bias=False)\n",
       "    )\n",
       "    (head): IndexEmbeddingOutputHead(\n",
       "      (embedding): Embedding(223, 256)\n",
       "    )\n",
       "  )\n",
       "  (loss_fn): MultinomialNLLLossFromLogits()\n",
       "  (metrics): ModuleDict(\n",
       "    (loss): MultinomialNLLFromLogits(\n",
       "      (loss_fn): MultinomialNLLLossFromLogits()\n",
       "    )\n",
       "    (pcc): BatchedPCC()\n",
       "  )\n",
       ")"
      ]
     },
     "execution_count": 9,
     "metadata": {},
     "output_type": "execute_result"
    }
   ],
   "source": [
    "model"
   ]
  },
  {
   "cell_type": "code",
   "execution_count": 10,
   "metadata": {},
   "outputs": [
    {
     "ename": "InvalidArgumentError",
     "evalue": "Cannot convert a Tensor of dtype variant to a NumPy array.",
     "output_type": "error",
     "traceback": [
      "\u001b[0;31m---------------------------------------------------------------------------\u001b[0m",
      "\u001b[0;31mInvalidArgumentError\u001b[0m                      Traceback (most recent call last)",
      "Cell \u001b[0;32mIn[10], line 1\u001b[0m\n\u001b[0;32m----> 1\u001b[0m \u001b[43mtorch\u001b[49m\u001b[38;5;241;43m.\u001b[39;49m\u001b[43msave\u001b[49m\u001b[43m(\u001b[49m\u001b[43mmodel\u001b[49m\u001b[43m,\u001b[49m\u001b[43m \u001b[49m\u001b[38;5;124;43m'\u001b[39;49m\u001b[38;5;124;43mtest.pt\u001b[39;49m\u001b[38;5;124;43m'\u001b[39;49m\u001b[43m)\u001b[49m\n",
      "File \u001b[0;32m~/miniconda3/envs/torch/lib/python3.10/site-packages/torch/serialization.py:423\u001b[0m, in \u001b[0;36msave\u001b[0;34m(obj, f, pickle_module, pickle_protocol, _use_new_zipfile_serialization)\u001b[0m\n\u001b[1;32m    <a href='file:///home/marc/miniconda3/envs/torch/lib/python3.10/site-packages/torch/serialization.py?line=420'>421</a>\u001b[0m \u001b[39mif\u001b[39;00m _use_new_zipfile_serialization:\n\u001b[1;32m    <a href='file:///home/marc/miniconda3/envs/torch/lib/python3.10/site-packages/torch/serialization.py?line=421'>422</a>\u001b[0m     \u001b[39mwith\u001b[39;00m _open_zipfile_writer(f) \u001b[39mas\u001b[39;00m opened_zipfile:\n\u001b[0;32m--> <a href='file:///home/marc/miniconda3/envs/torch/lib/python3.10/site-packages/torch/serialization.py?line=422'>423</a>\u001b[0m         _save(obj, opened_zipfile, pickle_module, pickle_protocol)\n\u001b[1;32m    <a href='file:///home/marc/miniconda3/envs/torch/lib/python3.10/site-packages/torch/serialization.py?line=423'>424</a>\u001b[0m         \u001b[39mreturn\u001b[39;00m\n\u001b[1;32m    <a href='file:///home/marc/miniconda3/envs/torch/lib/python3.10/site-packages/torch/serialization.py?line=424'>425</a>\u001b[0m \u001b[39melse\u001b[39;00m:\n",
      "File \u001b[0;32m~/miniconda3/envs/torch/lib/python3.10/site-packages/torch/serialization.py:635\u001b[0m, in \u001b[0;36m_save\u001b[0;34m(obj, zip_file, pickle_module, pickle_protocol)\u001b[0m\n\u001b[1;32m    <a href='file:///home/marc/miniconda3/envs/torch/lib/python3.10/site-packages/torch/serialization.py?line=632'>633</a>\u001b[0m pickler \u001b[39m=\u001b[39m pickle_module\u001b[39m.\u001b[39mPickler(data_buf, protocol\u001b[39m=\u001b[39mpickle_protocol)\n\u001b[1;32m    <a href='file:///home/marc/miniconda3/envs/torch/lib/python3.10/site-packages/torch/serialization.py?line=633'>634</a>\u001b[0m pickler\u001b[39m.\u001b[39mpersistent_id \u001b[39m=\u001b[39m persistent_id\n\u001b[0;32m--> <a href='file:///home/marc/miniconda3/envs/torch/lib/python3.10/site-packages/torch/serialization.py?line=634'>635</a>\u001b[0m pickler\u001b[39m.\u001b[39;49mdump(obj)\n\u001b[1;32m    <a href='file:///home/marc/miniconda3/envs/torch/lib/python3.10/site-packages/torch/serialization.py?line=635'>636</a>\u001b[0m data_value \u001b[39m=\u001b[39m data_buf\u001b[39m.\u001b[39mgetvalue()\n\u001b[1;32m    <a href='file:///home/marc/miniconda3/envs/torch/lib/python3.10/site-packages/torch/serialization.py?line=636'>637</a>\u001b[0m zip_file\u001b[39m.\u001b[39mwrite_record(\u001b[39m'\u001b[39m\u001b[39mdata.pkl\u001b[39m\u001b[39m'\u001b[39m, data_value, \u001b[39mlen\u001b[39m(data_value))\n",
      "File \u001b[0;32m~/miniconda3/envs/torch/lib/python3.10/site-packages/tensorflow/python/framework/ops.py:1080\u001b[0m, in \u001b[0;36m_EagerTensorBase.__reduce__\u001b[0;34m(self)\u001b[0m\n\u001b[1;32m   <a href='file:///home/marc/miniconda3/envs/torch/lib/python3.10/site-packages/tensorflow/python/framework/ops.py?line=1078'>1079</a>\u001b[0m \u001b[39mdef\u001b[39;00m \u001b[39m__reduce__\u001b[39m(\u001b[39mself\u001b[39m):\n\u001b[0;32m-> <a href='file:///home/marc/miniconda3/envs/torch/lib/python3.10/site-packages/tensorflow/python/framework/ops.py?line=1079'>1080</a>\u001b[0m   \u001b[39mreturn\u001b[39;00m convert_to_tensor, (\u001b[39mself\u001b[39;49m\u001b[39m.\u001b[39;49m_numpy(),)\n",
      "File \u001b[0;32m~/miniconda3/envs/torch/lib/python3.10/site-packages/tensorflow/python/framework/ops.py:1123\u001b[0m, in \u001b[0;36m_EagerTensorBase._numpy\u001b[0;34m(self)\u001b[0m\n\u001b[1;32m   <a href='file:///home/marc/miniconda3/envs/torch/lib/python3.10/site-packages/tensorflow/python/framework/ops.py?line=1120'>1121</a>\u001b[0m   \u001b[39mreturn\u001b[39;00m \u001b[39mself\u001b[39m\u001b[39m.\u001b[39m_numpy_internal()\n\u001b[1;32m   <a href='file:///home/marc/miniconda3/envs/torch/lib/python3.10/site-packages/tensorflow/python/framework/ops.py?line=1121'>1122</a>\u001b[0m \u001b[39mexcept\u001b[39;00m core\u001b[39m.\u001b[39m_NotOkStatusException \u001b[39mas\u001b[39;00m e:  \u001b[39m# pylint: disable=protected-access\u001b[39;00m\n\u001b[0;32m-> <a href='file:///home/marc/miniconda3/envs/torch/lib/python3.10/site-packages/tensorflow/python/framework/ops.py?line=1122'>1123</a>\u001b[0m   \u001b[39mraise\u001b[39;00m core\u001b[39m.\u001b[39m_status_to_exception(e) \u001b[39mfrom\u001b[39;00m \u001b[39mNone\u001b[39m\n",
      "\u001b[0;31mInvalidArgumentError\u001b[0m: Cannot convert a Tensor of dtype variant to a NumPy array."
     ]
    }
   ],
   "source": [
    "torch.save(model.network, 'test.pt')"
   ]
  },
  {
   "cell_type": "code",
   "execution_count": null,
   "metadata": {},
   "outputs": [],
   "source": []
  }
 ],
 "metadata": {
  "interpreter": {
   "hash": "7c2a629b5d736a8b2a3c0111829bdedfa4bd0b48e49067d38bd73bb54a8250f9"
  },
  "kernelspec": {
   "display_name": "Python 3.10.9 ('torch')",
   "language": "python",
   "name": "python3"
  },
  "language_info": {
   "codemirror_mode": {
    "name": "ipython",
    "version": 3
   },
   "file_extension": ".py",
   "mimetype": "text/x-python",
   "name": "python",
   "nbconvert_exporter": "python",
   "pygments_lexer": "ipython3",
   "version": "3.10.9"
  },
  "orig_nbformat": 4
 },
 "nbformat": 4,
 "nbformat_minor": 2
}
