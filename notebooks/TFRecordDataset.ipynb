{
 "cells": [
  {
   "cell_type": "code",
   "execution_count": 1,
   "metadata": {},
   "outputs": [
    {
     "name": "stderr",
     "output_type": "stream",
     "text": [
      "/home/marc/miniconda3/envs/torch/lib/python3.10/site-packages/tqdm/auto.py:22: TqdmWarning: IProgress not found. Please update jupyter and ipywidgets. See https://ipywidgets.readthedocs.io/en/stable/user_install.html\n",
      "  from .autonotebook import tqdm as notebook_tqdm\n"
     ]
    }
   ],
   "source": [
    "from rbpnet import io"
   ]
  },
  {
   "cell_type": "code",
   "execution_count": 2,
   "metadata": {},
   "outputs": [],
   "source": [
    "dataset = io.dataset_ops.load_tfrecord('../example/data.matrix/windows.chr13.4.data.matrix.filtered.tfrecord', deserialize=False)\n",
    "features = io.dataset_ops.features_from_json_file('../example/data.matrix/windows.chr13.4.data.matrix.filtered.tfrecord.features.json')"
   ]
  },
  {
   "cell_type": "code",
   "execution_count": 3,
   "metadata": {},
   "outputs": [
    {
     "ename": "NameError",
     "evalue": "name 'proto' is not defined",
     "output_type": "error",
     "traceback": [
      "\u001b[0;31m---------------------------------------------------------------------------\u001b[0m",
      "\u001b[0;31mNameError\u001b[0m                                 Traceback (most recent call last)",
      "Cell \u001b[0;32mIn[3], line 1\u001b[0m\n\u001b[0;32m----> 1\u001b[0m features\u001b[38;5;241m.\u001b[39mdeserialize_example(\u001b[43mproto\u001b[49m)\n",
      "\u001b[0;31mNameError\u001b[0m: name 'proto' is not defined"
     ]
    }
   ],
   "source": [
    "features.deserialize_example(proto)"
   ]
  },
  {
   "cell_type": "code",
   "execution_count": 58,
   "metadata": {},
   "outputs": [
    {
     "ename": "RuntimeError",
     "evalue": "Index tensor must have the same number of dimensions as input tensor",
     "output_type": "error",
     "traceback": [
      "\u001b[0;31m---------------------------------------------------------------------------\u001b[0m",
      "\u001b[0;31mRuntimeError\u001b[0m                              Traceback (most recent call last)",
      "Cell \u001b[0;32mIn[58], line 1\u001b[0m\n\u001b[0;32m----> 1\u001b[0m \u001b[43mtorch\u001b[49m\u001b[38;5;241;43m.\u001b[39;49m\u001b[43mgather\u001b[49m\u001b[43m(\u001b[49m\u001b[43mtorch\u001b[49m\u001b[38;5;241;43m.\u001b[39;49m\u001b[43mrand\u001b[49m\u001b[43m(\u001b[49m\u001b[38;5;241;43m8\u001b[39;49m\u001b[43m,\u001b[49m\u001b[43m \u001b[49m\u001b[38;5;241;43m3\u001b[39;49m\u001b[43m,\u001b[49m\u001b[43m \u001b[49m\u001b[38;5;241;43m4\u001b[39;49m\u001b[43m)\u001b[49m\u001b[43m,\u001b[49m\u001b[43m \u001b[49m\u001b[43mdim\u001b[49m\u001b[38;5;241;43m=\u001b[39;49m\u001b[38;5;241;43m0\u001b[39;49m\u001b[43m,\u001b[49m\u001b[43m \u001b[49m\u001b[43mindex\u001b[49m\u001b[38;5;241;43m=\u001b[39;49m\u001b[43mtorch\u001b[49m\u001b[38;5;241;43m.\u001b[39;49m\u001b[43mtensor\u001b[49m\u001b[43m(\u001b[49m\u001b[43m[\u001b[49m\u001b[38;5;241;43m0\u001b[39;49m\u001b[43m,\u001b[49m\u001b[43m \u001b[49m\u001b[38;5;241;43m1\u001b[39;49m\u001b[43m,\u001b[49m\u001b[43m \u001b[49m\u001b[38;5;241;43m7\u001b[39;49m\u001b[43m]\u001b[49m\u001b[43m)\u001b[49m\u001b[43m)\u001b[49m\n",
      "\u001b[0;31mRuntimeError\u001b[0m: Index tensor must have the same number of dimensions as input tensor"
     ]
    }
   ],
   "source": [
    "torch.gather(torch.rand(8, 3, 4), dim=0, index=torch.tensor([0, 1, 7]))"
   ]
  },
  {
   "cell_type": "code",
   "execution_count": 61,
   "metadata": {},
   "outputs": [
    {
     "data": {
      "text/plain": [
       "torch.Size([2, 3, 4])"
      ]
     },
     "execution_count": 61,
     "metadata": {},
     "output_type": "execute_result"
    }
   ],
   "source": [
    "torch.rand(5, 3, 4)[torch.tensor([True, False, True, False, False]), :, :].shape"
   ]
  },
  {
   "cell_type": "code",
   "execution_count": 3,
   "metadata": {},
   "outputs": [],
   "source": [
    "proto_samples = [proto for proto in dataset.as_numpy_iterator()]"
   ]
  },
  {
   "cell_type": "code",
   "execution_count": 4,
   "metadata": {},
   "outputs": [
    {
     "data": {
      "text/plain": [
       "1147"
      ]
     },
     "execution_count": 4,
     "metadata": {},
     "output_type": "execute_result"
    }
   ],
   "source": [
    "len(proto_samples)"
   ]
  },
  {
   "cell_type": "code",
   "execution_count": 4,
   "metadata": {},
   "outputs": [],
   "source": [
    "import torch\n",
    "import tensorflow as tf\n",
    "from torch.utils.data import Dataset, DataLoader\n",
    "\n",
    "class TFRecordDataset(Dataset):\n",
    "    def __init__(self, filepath, features_filepath=None):\n",
    "        self._tf_dataset = io.dataset_ops.load_tfrecord(filepath, deserialize=False)\n",
    "        self._serialized_protos = [proto for proto in self._tf_dataset.as_numpy_iterator()]\n",
    "\n",
    "        # deserialize\n",
    "        if features_filepath is None:\n",
    "            features_filepath = filepath + '.features.json'\n",
    "        self.features = io.dataset_ops.features_from_json_file(features_filepath)\n",
    "\n",
    "    def __len__(self):\n",
    "        return len(self._serialized_protos)\n",
    "\n",
    "    def __getitem__(self, idx):\n",
    "        example = self.features.deserialize_example(self._serialized_protos[idx])\n",
    "        example = (example['inputs'], example['outputs'])\n",
    "        example = tf.nest.map_structure(lambda x: torch.tensor(x.numpy()).to(torch.float32), example)\n",
    "        return example"
   ]
  },
  {
   "cell_type": "code",
   "execution_count": null,
   "metadata": {},
   "outputs": [],
   "source": []
  },
  {
   "cell_type": "code",
   "execution_count": 32,
   "metadata": {},
   "outputs": [
    {
     "data": {
      "text/plain": [
       "<__main__.TFRecordDataset at 0x7f94f12fdb40>"
      ]
     },
     "execution_count": 32,
     "metadata": {},
     "output_type": "execute_result"
    }
   ],
   "source": [
    "dataset = TFRecordDataset('../example/data.matrix/windows.chr13.4.data.matrix.filtered.tfrecord')\n",
    "dataset"
   ]
  },
  {
   "cell_type": "code",
   "execution_count": 33,
   "metadata": {},
   "outputs": [
    {
     "data": {
      "text/plain": [
       "({'input': tensor([[0., 0., 0., 1.],\n",
       "          [1., 0., 0., 0.],\n",
       "          [0., 0., 0., 1.],\n",
       "          ...,\n",
       "          [0., 0., 1., 0.],\n",
       "          [0., 0., 0., 1.],\n",
       "          [0., 0., 1., 0.]])},\n",
       " {'counts': {'control': tensor([0., 0., 0., 0., 0., 1., 0., 0., 0., 1., 0., 1., 1., 1., 0., 1., 0., 0.,\n",
       "           1., 0., 0., 1., 0., 0., 0., 0., 0., 0., 0., 0., 0., 1., 2., 0., 0., 0.,\n",
       "           2., 0., 1., 1., 0., 4., 0., 0., 0., 1., 0., 0., 0., 0., 1., 0., 2., 0.,\n",
       "           1., 0., 0., 0., 0., 0., 0., 0., 1., 0., 0., 0., 0., 0., 0., 2., 0., 0.,\n",
       "           0., 0., 0., 0., 0., 0., 0., 1., 0., 0., 0., 0., 0., 0., 0., 1., 0., 1.,\n",
       "           0., 0., 0., 0., 0., 0., 3., 0., 1., 0., 0., 0., 0., 0., 0., 0., 0., 0.,\n",
       "           0., 0., 0., 0., 0., 1., 0., 0., 1., 0., 0., 0., 0., 1., 0., 1., 0., 0.,\n",
       "           0., 0., 1., 0., 0., 2., 0., 0., 0., 0., 0., 0., 1., 0., 1., 0., 0., 0.,\n",
       "           1., 0., 2., 0., 1., 0., 0., 2., 0., 0., 2., 0., 0., 2., 0., 0., 0., 1.,\n",
       "           0., 0., 0., 1., 0., 1., 0., 0., 0., 0., 0., 0., 0., 0., 1., 0., 3., 1.,\n",
       "           0., 0., 0., 0., 0., 0., 0., 0., 0., 0., 0., 1., 0., 0., 0., 1., 0., 1.,\n",
       "           0., 1., 0., 0., 0., 0., 0., 1., 0., 0., 0., 0., 0., 1., 0., 1., 0., 0.,\n",
       "           2., 0., 0., 0., 0., 0., 0.]),\n",
       "   'total': tensor([0., 0., 0., 0., 0., 5., 0., 0., 0., 0., 0., 1., 0., 0., 0., 1., 0., 0.,\n",
       "           8., 0., 0., 0., 0., 0., 0., 0., 0., 2., 0., 0., 0., 0., 0., 0., 0., 0.,\n",
       "           1., 0., 0., 2., 0., 0., 0., 2., 0., 0., 0., 0., 0., 0., 0., 0., 1., 0.,\n",
       "           0., 0., 0., 0., 1., 2., 0., 0., 0., 0., 1., 0., 0., 0., 0., 0., 0., 1.,\n",
       "           0., 1., 0., 5., 0., 1., 0., 0., 0., 5., 0., 0., 0., 1., 0., 1., 0., 0.,\n",
       "           0., 0., 0., 0., 0., 0., 6., 0., 0., 0., 0., 0., 0., 0., 1., 0., 1., 0.,\n",
       "           0., 0., 0., 0., 0., 0., 0., 0., 0., 0., 0., 0., 0., 0., 0., 0., 0., 1.,\n",
       "           0., 1., 0., 0., 0., 0., 0., 1., 0., 0., 0., 0., 0., 0., 0., 0., 0., 0.,\n",
       "           0., 0., 1., 0., 0., 0., 0., 3., 0., 0., 0., 0., 0., 0., 0., 0., 0., 5.,\n",
       "           0., 0., 0., 0., 0., 0., 0., 0., 0., 0., 0., 0., 0., 0., 2., 0., 2., 0.,\n",
       "           0., 0., 0., 0., 0., 0., 2., 0., 0., 0., 0., 0., 0., 0., 0., 2., 0., 0.,\n",
       "           0., 0., 0., 0., 0., 0., 0., 2., 0., 0., 1., 0., 0., 0., 0., 1., 0., 0.,\n",
       "           7., 0., 0., 0., 0., 0., 0.])},\n",
       "  'signal': {'control': tensor([[0., 0., 0.,  ..., 0., 0., 0.],\n",
       "           [0., 0., 0.,  ..., 0., 0., 0.],\n",
       "           [0., 0., 0.,  ..., 0., 0., 0.],\n",
       "           ...,\n",
       "           [0., 0., 0.,  ..., 0., 0., 0.],\n",
       "           [0., 0., 0.,  ..., 0., 0., 0.],\n",
       "           [0., 0., 0.,  ..., 0., 0., 0.]]),\n",
       "   'total': tensor([[0., 0., 0.,  ..., 0., 0., 0.],\n",
       "           [0., 0., 0.,  ..., 0., 0., 0.],\n",
       "           [0., 0., 0.,  ..., 0., 0., 0.],\n",
       "           ...,\n",
       "           [0., 0., 0.,  ..., 0., 0., 0.],\n",
       "           [0., 0., 0.,  ..., 0., 0., 0.],\n",
       "           [0., 0., 0.,  ..., 0., 0., 0.]])}})"
      ]
     },
     "execution_count": 33,
     "metadata": {},
     "output_type": "execute_result"
    }
   ],
   "source": [
    "example = dataset[2]\n",
    "example"
   ]
  },
  {
   "cell_type": "code",
   "execution_count": 44,
   "metadata": {},
   "outputs": [],
   "source": [
    "dataloader = DataLoader(dataset, batch_size=128, num_workers=8)"
   ]
  },
  {
   "cell_type": "code",
   "execution_count": 52,
   "metadata": {},
   "outputs": [],
   "source": [
    "for batch in dataloader:\n",
    "    _ = batch"
   ]
  },
  {
   "cell_type": "code",
   "execution_count": 51,
   "metadata": {},
   "outputs": [],
   "source": [
    "from torchrbpnet.data import tfrecord_to_dataloader\n",
    "\n",
    "for batch in tfrecord_to_dataloader('../example/data.matrix/windows.chr13.4.data.matrix.filtered.tfrecord'):\n",
    "    _ = batch"
   ]
  },
  {
   "cell_type": "code",
   "execution_count": 63,
   "metadata": {},
   "outputs": [],
   "source": [
    "mask_HepG2 = list()\n",
    "with open('../example/experiments.txt') as f:\n",
    "    for line in f:\n",
    "        symbol, cell = line.strip().split('_')\n",
    "\n",
    "        indicator = False\n",
    "        if cell == 'HepG2':\n",
    "            indicator = True\n",
    "        mask_HepG2.append(indicator)\n",
    "mask_HepG2 = torch.tensor(mask_HepG2)\n",
    "torch.save(mask_HepG2, 'experiment-mask.HepG2.pt')"
   ]
  },
  {
   "cell_type": "code",
   "execution_count": null,
   "metadata": {},
   "outputs": [],
   "source": []
  },
  {
   "cell_type": "code",
   "execution_count": 31,
   "metadata": {},
   "outputs": [],
   "source": [
    "mask_K562 = list()\n",
    "with open('../example/experiments.txt') as f:\n",
    "    for line in f:\n",
    "        symbol, cell = line.strip().split('_')\n",
    "\n",
    "        indicator = False\n",
    "        if cell == 'K562':\n",
    "            indicator = True\n",
    "        mask_K562.append(indicator)\n",
    "mask_K562 = torch.tensor(mask_K562)\n",
    "torch.save(mask_K562, 'experiment-mask.K562.pt')"
   ]
  },
  {
   "cell_type": "code",
   "execution_count": 32,
   "metadata": {},
   "outputs": [
    {
     "name": "stdout",
     "output_type": "stream",
     "text": [
      "AARS True\n",
      "AATF True\n",
      "ABCF1 True\n",
      "AGGF1 True\n",
      "AGGF1 False\n",
      "AKAP1 True\n",
      "AKAP1 False\n",
      "AKAP8L True\n",
      "APOBEC3C True\n",
      "AQR True\n",
      "AQR False\n",
      "BCCIP True\n",
      "BCLAF1 True\n",
      "BUD13 True\n",
      "BUD13 False\n",
      "CDC40 True\n",
      "CPEB4 True\n",
      "CPSF6 True\n",
      "CSTF2 True\n",
      "CSTF2T True\n",
      "CSTF2T False\n",
      "DDX21 True\n",
      "DDX24 True\n",
      "DDX3X True\n",
      "DDX3X False\n",
      "DDX42 True\n",
      "DDX51 True\n",
      "DDX52 True\n",
      "DDX52 False\n",
      "DDX55 True\n",
      "DDX55 False\n",
      "DDX59 True\n",
      "DDX6 True\n",
      "DDX6 False\n",
      "DGCR8 True\n",
      "DGCR8 False\n",
      "DHX30 True\n",
      "DHX30 False\n",
      "DKC1 True\n",
      "DROSHA True\n",
      "DROSHA False\n",
      "EFTUD2 True\n",
      "EFTUD2 False\n",
      "EIF3D True\n",
      "EIF3G True\n",
      "EIF3H True\n",
      "EIF4G2 True\n",
      "EWSR1 True\n",
      "EXOSC5 True\n",
      "EXOSC5 False\n",
      "FAM120A True\n",
      "FAM120A False\n",
      "FASTKD2 True\n",
      "FASTKD2 False\n",
      "FKBP4 True\n",
      "FMR1 True\n",
      "FTO True\n",
      "FTO False\n",
      "FUBP3 True\n",
      "FUS True\n",
      "FUS False\n",
      "FXR1 True\n",
      "FXR2 True\n",
      "FXR2 False\n",
      "G3BP1 True\n",
      "GEMIN5 True\n",
      "GNL3 True\n",
      "GPKOW True\n",
      "GRSF1 True\n",
      "GRWD1 True\n",
      "GRWD1 False\n",
      "GTF2F1 True\n",
      "GTF2F1 False\n",
      "HLTF True\n",
      "HLTF False\n",
      "HNRNPA1 True\n",
      "HNRNPA1 False\n",
      "HNRNPC True\n",
      "HNRNPC False\n",
      "HNRNPK True\n",
      "HNRNPK False\n",
      "HNRNPL True\n",
      "HNRNPL False\n",
      "HNRNPM True\n",
      "HNRNPM False\n",
      "HNRNPU True\n",
      "HNRNPU False\n",
      "HNRNPUL1 True\n",
      "HNRNPUL1 False\n",
      "IGF2BP1 True\n",
      "IGF2BP1 False\n",
      "IGF2BP2 True\n",
      "IGF2BP3 True\n",
      "ILF3 True\n",
      "ILF3 False\n",
      "KHDRBS1 True\n",
      "KHSRP True\n",
      "KHSRP False\n",
      "LARP4 True\n",
      "LARP4 False\n",
      "LARP7 True\n",
      "LARP7 False\n",
      "LIN28B True\n",
      "LIN28B False\n",
      "LSM11 True\n",
      "LSM11 False\n",
      "MATR3 True\n",
      "MATR3 False\n",
      "METAP2 True\n",
      "MTPAP True\n",
      "NCBP2 True\n",
      "NCBP2 False\n",
      "NIP7 True\n",
      "NIPBL True\n",
      "NKRF True\n",
      "NOL12 True\n",
      "NOLC1 True\n",
      "NOLC1 False\n",
      "NONO True\n",
      "NPM1 True\n",
      "NSUN2 True\n",
      "PABPC4 True\n",
      "PABPN1 True\n",
      "PCBP1 True\n",
      "PCBP1 False\n",
      "PCBP2 True\n",
      "PHF6 True\n",
      "POLR2G True\n",
      "PPIG True\n",
      "PPIL4 True\n",
      "PRPF4 True\n",
      "PRPF8 True\n",
      "PRPF8 False\n",
      "PTBP1 True\n",
      "PTBP1 False\n",
      "PUM1 True\n",
      "PUM2 True\n",
      "PUS1 True\n",
      "QKI True\n",
      "QKI False\n",
      "RBFOX2 True\n",
      "RBFOX2 False\n",
      "RBM15 True\n",
      "RBM15 False\n",
      "RBM22 True\n",
      "RBM22 False\n",
      "RBM5 True\n",
      "RPS11 True\n",
      "RPS3 True\n",
      "RPS3 False\n",
      "SAFB2 True\n",
      "SAFB True\n",
      "SAFB False\n",
      "SBDS True\n",
      "SDAD1 True\n",
      "SDAD1 False\n",
      "SERBP1 True\n",
      "SF3A3 True\n",
      "SF3B1 True\n",
      "SF3B4 True\n",
      "SF3B4 False\n",
      "SFPQ True\n",
      "SLBP True\n",
      "SLTM True\n",
      "SLTM False\n",
      "SMNDC1 True\n",
      "SMNDC1 False\n",
      "SND1 True\n",
      "SND1 False\n",
      "SRSF1 True\n",
      "SRSF1 False\n",
      "SRSF7 True\n",
      "SRSF7 False\n",
      "SRSF9 True\n",
      "SSB True\n",
      "SSB False\n",
      "STAU2 True\n",
      "SUB1 True\n",
      "SUGP2 True\n",
      "SUPV3L1 True\n",
      "SUPV3L1 False\n",
      "TAF15 True\n",
      "TAF15 False\n",
      "TARDBP True\n",
      "TBRG4 True\n",
      "TBRG4 False\n",
      "TIA1 True\n",
      "TIA1 False\n",
      "TIAL1 True\n",
      "TRA2A True\n",
      "TRA2A False\n",
      "TROVE2 True\n",
      "TROVE2 False\n",
      "U2AF1 True\n",
      "U2AF1 False\n",
      "U2AF2 True\n",
      "U2AF2 False\n",
      "UCHL5 True\n",
      "UCHL5 False\n",
      "UPF1 True\n",
      "UPF1 False\n",
      "UTP18 True\n",
      "UTP18 False\n",
      "UTP3 True\n",
      "WDR3 True\n",
      "WDR43 True\n",
      "WDR43 False\n",
      "WRN True\n",
      "XPO5 True\n",
      "XRCC6 True\n",
      "XRCC6 False\n",
      "XRN2 True\n",
      "XRN2 False\n",
      "YBX3 True\n",
      "YBX3 False\n",
      "YWHAG True\n",
      "ZC3H11A True\n",
      "ZC3H11A False\n",
      "ZC3H8 True\n",
      "ZNF622 True\n",
      "ZNF800 True\n",
      "ZNF800 False\n",
      "ZRANB2 True\n",
      "tensor(150)\n"
     ]
    }
   ],
   "source": [
    "mask_unique_ENCODE_prefer_HepG2 = list()\n",
    "visited = set()\n",
    "with open('../example/experiments.txt') as f:\n",
    "    for line in f:\n",
    "        symbol, cell = line.strip().split('_')\n",
    "\n",
    "        indicator = False\n",
    "        if symbol not in visited:\n",
    "            indicator = True\n",
    "            visited.add(symbol)\n",
    "        print(symbol, indicator)\n",
    "        mask_unique_ENCODE_prefer_HepG2.append(indicator)\n",
    "\n",
    "mask_unique_ENCODE_prefer_HepG2 = torch.tensor(mask_unique_ENCODE_prefer_HepG2)\n",
    "print(torch.sum(mask_unique_ENCODE_prefer_HepG2))\n",
    "torch.save(mask_unique_ENCODE_prefer_HepG2, 'experiment-mask.ENCODE-150.prioritize-HepG2.pt')"
   ]
  },
  {
   "cell_type": "code",
   "execution_count": null,
   "metadata": {},
   "outputs": [],
   "source": []
  },
  {
   "cell_type": "code",
   "execution_count": 41,
   "metadata": {},
   "outputs": [
    {
     "data": {
      "text/plain": [
       "tensor([ True,  True,  True,  True, False,  True, False,  True,  True,  True,\n",
       "        False,  True,  True,  True, False,  True,  True,  True,  True,  True,\n",
       "        False,  True,  True,  True, False,  True,  True,  True, False,  True,\n",
       "        False,  True,  True, False,  True, False,  True, False,  True,  True,\n",
       "        False,  True, False,  True,  True,  True,  True,  True,  True, False,\n",
       "         True, False,  True, False,  True,  True,  True, False,  True,  True,\n",
       "        False,  True,  True, False,  True,  True,  True,  True,  True,  True,\n",
       "        False,  True, False,  True, False,  True, False,  True, False,  True,\n",
       "        False,  True, False,  True, False,  True, False,  True, False,  True,\n",
       "        False,  True,  True,  True, False,  True,  True, False,  True, False,\n",
       "         True, False,  True, False,  True, False,  True, False,  True,  True,\n",
       "         True, False,  True,  True,  True,  True,  True, False,  True,  True,\n",
       "         True,  True,  True,  True, False,  True,  True,  True,  True,  True,\n",
       "         True,  True, False,  True, False,  True,  True,  True,  True, False,\n",
       "         True, False,  True, False,  True, False,  True,  True,  True, False,\n",
       "         True,  True, False,  True,  True, False,  True,  True,  True,  True,\n",
       "        False,  True,  True,  True, False,  True, False,  True, False,  True,\n",
       "        False,  True, False,  True,  True, False,  True,  True,  True,  True,\n",
       "        False,  True, False,  True,  True, False,  True, False,  True,  True,\n",
       "        False,  True, False,  True, False,  True, False,  True, False,  True,\n",
       "        False,  True, False,  True,  True,  True, False,  True,  True,  True,\n",
       "        False,  True, False,  True, False,  True,  True, False,  True,  True,\n",
       "         True, False,  True])"
      ]
     },
     "execution_count": 41,
     "metadata": {},
     "output_type": "execute_result"
    }
   ],
   "source": [
    "mask = mask_unique_ENCODE_prefer_HepG2\n",
    "mask"
   ]
  },
  {
   "cell_type": "code",
   "execution_count": 51,
   "metadata": {},
   "outputs": [
    {
     "data": {
      "text/plain": [
       "torch.Size([223])"
      ]
     },
     "execution_count": 51,
     "metadata": {},
     "output_type": "execute_result"
    }
   ],
   "source": [
    "mask.shape"
   ]
  },
  {
   "cell_type": "code",
   "execution_count": 54,
   "metadata": {},
   "outputs": [
    {
     "name": "stdout",
     "output_type": "stream",
     "text": [
      "torch.Size([223])\n",
      "torch.int64\n"
     ]
    }
   ],
   "source": [
    "indices = torch.arange(0, 223)\n",
    "print(indices.shape)\n",
    "print(indices.dtype)"
   ]
  },
  {
   "cell_type": "code",
   "execution_count": 60,
   "metadata": {},
   "outputs": [
    {
     "data": {
      "text/plain": [
       "tensor([  0,   1,   2,   3,   5,   7,   8,   9,  11,  12,  13,  15,  16,  17,\n",
       "         18,  19,  21,  22,  23,  25,  26,  27,  29,  31,  32,  34,  36,  38,\n",
       "         39,  41,  43,  44,  45,  46,  47,  48,  50,  52,  54,  55,  56,  58,\n",
       "         59,  61,  62,  64,  65,  66,  67,  68,  69,  71,  73,  75,  77,  79,\n",
       "         81,  83,  85,  87,  89,  91,  92,  93,  95,  96,  98, 100, 102, 104,\n",
       "        106, 108, 109, 110, 112, 113, 114, 115, 116, 118, 119, 120, 121, 122,\n",
       "        123, 125, 126, 127, 128, 129, 130, 131, 133, 135, 136, 137, 138, 140,\n",
       "        142, 144, 146, 147, 148, 150, 151, 153, 154, 156, 157, 158, 159, 161,\n",
       "        162, 163, 165, 167, 169, 171, 173, 174, 176, 177, 178, 179, 181, 183,\n",
       "        184, 186, 188, 189, 191, 193, 195, 197, 199, 201, 203, 204, 205, 207,\n",
       "        208, 209, 211, 213, 215, 216, 218, 219, 220, 222])"
      ]
     },
     "execution_count": 60,
     "metadata": {},
     "output_type": "execute_result"
    }
   ],
   "source": [
    "selected_indices = torch.masked_select(indices, mask)\n",
    "selected_indices"
   ]
  },
  {
   "cell_type": "code",
   "execution_count": 81,
   "metadata": {},
   "outputs": [
    {
     "data": {
      "text/plain": [
       "tensor([ 95, 119, 137,   8, 129,  31, 110, 144, 143,  84,  71,  65,  90, 135,\n",
       "        121, 112, 147, 140, 130, 114], dtype=torch.int32)"
      ]
     },
     "execution_count": 81,
     "metadata": {},
     "output_type": "execute_result"
    }
   ],
   "source": []
  },
  {
   "cell_type": "code",
   "execution_count": 64,
   "metadata": {},
   "outputs": [
    {
     "data": {
      "text/plain": [
       "tensor([1, 1, 1, 1, 0, 1, 0, 1, 1, 1, 0, 1, 1, 1, 0, 1, 1, 1, 1, 1, 0, 1, 1, 1,\n",
       "        0, 1, 1, 1, 0, 1, 0, 1, 1, 0, 1, 0, 1, 0, 1, 1, 0, 1, 0, 1, 1, 1, 1, 1,\n",
       "        1, 0, 1, 0, 1, 0, 1, 1, 1, 0, 1, 1, 0, 1, 1, 0, 1, 1, 1, 1, 1, 1, 0, 1,\n",
       "        0, 1, 0, 1, 0, 1, 0, 1, 0, 1, 0, 1, 0, 1, 0, 1, 0, 1, 0, 1, 1, 1, 0, 1,\n",
       "        1, 0, 1, 0, 1, 0, 1, 0, 1, 0, 1, 0, 1, 1, 1, 0, 1, 1, 1, 1, 1, 0, 1, 1,\n",
       "        1, 1, 1, 1, 0, 1, 1, 1, 1, 1, 1, 1, 0, 1, 0, 1, 1, 1, 1, 0, 1, 0, 1, 0,\n",
       "        1, 0, 1, 1, 1, 0, 1, 1, 0, 1, 1, 0, 1, 1, 1, 1, 0, 1, 1, 1, 0, 1, 0, 1,\n",
       "        0, 1, 0, 1, 0, 1, 1, 0, 1, 1, 1, 1, 0, 1, 0, 1, 1, 0, 1, 0, 1, 1, 0, 1,\n",
       "        0, 1, 0, 1, 0, 1, 0, 1, 0, 1, 0, 1, 1, 1, 0, 1, 1, 1, 0, 1, 0, 1, 0, 1,\n",
       "        1, 0, 1, 1, 1, 0, 1, 0, 0, 0, 0, 0, 0, 0, 0, 0, 0])"
      ]
     },
     "execution_count": 64,
     "metadata": {},
     "output_type": "execute_result"
    }
   ],
   "source": [
    "torch.sum(torch.nn.functional.one_hot(selected_indices, 233), axis=0)"
   ]
  },
  {
   "cell_type": "code",
   "execution_count": 84,
   "metadata": {},
   "outputs": [
    {
     "data": {
      "text/plain": [
       "torch.Size([223])"
      ]
     },
     "execution_count": 84,
     "metadata": {},
     "output_type": "execute_result"
    }
   ],
   "source": [
    "mask.shape"
   ]
  },
  {
   "cell_type": "code",
   "execution_count": 97,
   "metadata": {},
   "outputs": [
    {
     "data": {
      "text/plain": [
       "tensor([149, 138,  79, 135,  99, 108,  67, 127,  64,  46])"
      ]
     },
     "execution_count": 97,
     "metadata": {},
     "output_type": "execute_result"
    }
   ],
   "source": [
    "def sample_positives_from_mask(boolean_mask, n):\n",
    "    assert len(boolean_mask.shape) == 1\n",
    "    positive_indices = torch.masked_select(torch.arange(0, len(boolean_mask)), mask)\n",
    "    return torch.multinomial(positive_indices.to(torch.float32), n, replacement=False).to(torch.int64)\n",
    "\n",
    "sample = sample_positives_from_mask(mask, 10)\n",
    "sample"
   ]
  },
  {
   "cell_type": "code",
   "execution_count": 126,
   "metadata": {},
   "outputs": [
    {
     "name": "stdout",
     "output_type": "stream",
     "text": [
      "tensor([False, False, False, False, False, False, False, False, False, False,\n",
      "        False, False, False, False, False, False, False, False, False, False,\n",
      "        False, False, False, False, False, False, False, False, False, False,\n",
      "        False, False, False, False, False, False, False, False, False, False,\n",
      "        False, False, False, False, False, False,  True, False, False, False,\n",
      "        False, False, False, False, False, False, False, False, False, False,\n",
      "        False, False, False, False,  True, False, False,  True, False, False,\n",
      "        False, False, False, False, False, False, False, False, False,  True,\n",
      "        False, False, False, False, False, False, False, False, False, False,\n",
      "        False, False, False, False, False, False, False, False, False,  True,\n",
      "        False, False, False, False, False, False, False, False,  True, False,\n",
      "        False, False, False, False, False, False, False, False, False, False,\n",
      "        False, False, False, False, False, False, False,  True, False, False,\n",
      "        False, False, False, False, False,  True, False, False,  True, False,\n",
      "        False, False, False, False, False, False, False, False, False,  True,\n",
      "        False, False, False, False, False, False, False, False, False, False,\n",
      "        False, False, False, False, False, False, False, False, False, False,\n",
      "        False, False, False, False, False, False, False, False, False, False,\n",
      "        False, False, False, False, False, False, False, False, False, False,\n",
      "        False, False, False, False, False, False, False, False, False, False,\n",
      "        False, False, False, False, False, False, False, False, False, False,\n",
      "        False, False, False, False, False, False, False, False, False, False,\n",
      "        False, False, False])\n",
      "tensor([ True,  True,  True,  True,  True,  True,  True,  True,  True,  True,\n",
      "         True,  True,  True,  True,  True,  True,  True,  True,  True,  True,\n",
      "         True,  True,  True,  True,  True,  True,  True,  True,  True,  True,\n",
      "         True,  True,  True,  True,  True,  True,  True,  True,  True,  True,\n",
      "         True,  True,  True,  True,  True,  True, False,  True,  True,  True,\n",
      "         True,  True,  True,  True,  True,  True,  True,  True,  True,  True,\n",
      "         True,  True,  True,  True, False,  True,  True, False,  True,  True,\n",
      "         True,  True,  True,  True,  True,  True,  True,  True,  True, False,\n",
      "         True,  True,  True,  True,  True,  True,  True,  True,  True,  True,\n",
      "         True,  True,  True,  True,  True,  True,  True,  True,  True, False,\n",
      "         True,  True,  True,  True,  True,  True,  True,  True, False,  True,\n",
      "         True,  True,  True,  True,  True,  True,  True,  True,  True,  True,\n",
      "         True,  True,  True,  True,  True,  True,  True, False,  True,  True,\n",
      "         True,  True,  True,  True,  True, False,  True,  True, False,  True,\n",
      "         True,  True,  True,  True,  True,  True,  True,  True,  True, False,\n",
      "         True,  True,  True,  True,  True,  True,  True,  True,  True,  True,\n",
      "         True,  True,  True,  True,  True,  True,  True,  True,  True,  True,\n",
      "         True,  True,  True,  True,  True,  True,  True,  True,  True,  True,\n",
      "         True,  True,  True,  True,  True,  True,  True,  True,  True,  True,\n",
      "         True,  True,  True,  True,  True,  True,  True,  True,  True,  True,\n",
      "         True,  True,  True,  True,  True,  True,  True,  True,  True,  True,\n",
      "         True,  True,  True,  True,  True,  True,  True,  True,  True,  True,\n",
      "         True,  True,  True])\n"
     ]
    }
   ],
   "source": [
    "def indices_to_mask(indices, depth):\n",
    "    return torch.sum(torch.nn.functional.one_hot(indices, depth), dim=0).to(torch.bool)\n",
    "\n",
    "print(indices_to_mask(sample, depth=223))\n",
    "print(torch.logical_not(indices_to_mask(sample, depth=223)))"
   ]
  },
  {
   "cell_type": "code",
   "execution_count": 96,
   "metadata": {},
   "outputs": [
    {
     "data": {
      "text/plain": [
       "torch.int32"
      ]
     },
     "execution_count": 96,
     "metadata": {},
     "output_type": "execute_result"
    }
   ],
   "source": []
  },
  {
   "cell_type": "code",
   "execution_count": 33,
   "metadata": {},
   "outputs": [],
   "source": [
    "idx2symbol_cell = dict()\n",
    "with open('../example/experiments.txt') as f:\n",
    "    for i, line in enumerate(f):\n",
    "        symbol, cell = line.strip().split('_')\n",
    "        idx2symbol_cell[i] = (symbol, cell)\n",
    "torch.save(idx2symbol_cell, 'ENCODE.idx2symbol-cell.pt')"
   ]
  },
  {
   "cell_type": "code",
   "execution_count": 30,
   "metadata": {},
   "outputs": [
    {
     "data": {
      "text/plain": [
       "tensor(150)"
      ]
     },
     "execution_count": 30,
     "metadata": {},
     "output_type": "execute_result"
    }
   ],
   "source": [
    "sum(mask_unique_ENCODE_prefer_HepG2)"
   ]
  },
  {
   "cell_type": "code",
   "execution_count": 65,
   "metadata": {},
   "outputs": [],
   "source": [
    "example = next(iter(tfrecord_to_dataloader('../example/data.matrix/windows.chr13.4.data.matrix.filtered.tfrecord', batch_size=16)))"
   ]
  },
  {
   "cell_type": "code",
   "execution_count": 68,
   "metadata": {},
   "outputs": [
    {
     "data": {
      "text/plain": [
       "torch.Size([16, 1000, 120])"
      ]
     },
     "execution_count": 68,
     "metadata": {},
     "output_type": "execute_result"
    }
   ],
   "source": [
    "example[1][:, :, mask_K562].shape"
   ]
  },
  {
   "cell_type": "code",
   "execution_count": null,
   "metadata": {},
   "outputs": [],
   "source": [
    "torch.logical_and()"
   ]
  },
  {
   "cell_type": "code",
   "execution_count": 167,
   "metadata": {},
   "outputs": [],
   "source": [
    "class TFIterableDataset(torch.utils.data.IterableDataset):\n",
    "    def __init__(self, filepath, features_filepath=None, batch_size=64, cache=True, shuffle=None):\n",
    "        super(TFIterableDataset).__init__()\n",
    "        \n",
    "        # load tfrecord file and create tf.data pipeline \n",
    "        self.dataset = self._load_dataset(filepath, features_filepath, batch_size, cache, shuffle)\n",
    "\n",
    "    def _load_dataset(self, filepath, features_filepath=None, batch_size=64, cache=True, shuffle=None):\n",
    "        # no not serialize - only after shuffle/cache \n",
    "        dataset = io.dataset_ops.load_tfrecord(filepath, deserialize=False)\n",
    "        if cache:\n",
    "            dataset = dataset.cache()\n",
    "        if shuffle:\n",
    "            dataset = dataset.shuffle(shuffle)\n",
    "\n",
    "        # deserialize proto to example\n",
    "        if features_filepath is None:\n",
    "            features_filepath = filepath + '.features.json'\n",
    "        self.features = io.dataset_ops.features_from_json_file(features_filepath)\n",
    "        dataset = io.dataset_ops.deserialize_dataset(dataset, self.features)\n",
    "\n",
    "        # batch & prefetch\n",
    "        dataset = dataset.batch(batch_size)\n",
    "        dataset = dataset.prefetch(tf.data.AUTOTUNE)\n",
    "\n",
    "        # format example & prefetch\n",
    "        dataset = dataset.map(self._format_example, num_parallel_calls=tf.data.AUTOTUNE)\n",
    "        dataset = dataset.prefetch(tf.data.AUTOTUNE)\n",
    "        \n",
    "        return dataset\n",
    "    \n",
    "    def _format_example(self, example):\n",
    "        # move channel dim from -1 to -2\n",
    "        # example['inputs']['input'] = tf.transpose(example['inputs']['input'], perm=[0, 2, 1])\n",
    "        # example['outputs']['signal']['total'] = tf.transpose(example['outputs']['signal']['total'], perm=[0, 2, 1])\n",
    "\n",
    "        example = {\n",
    "            'inputs': {\n",
    "                'sequence': tf.transpose(example['inputs']['input'], perm=[0, 2, 1])},\n",
    "            'outputs': {\n",
    "                'total': tf.transpose(example['outputs']['signal']['total'], perm=[0, 2, 1]),\n",
    "                'control': tf.transpose(example['outputs']['signal']['control'], perm=[0, 2, 1]),\n",
    "            },\n",
    "        }\n",
    "\n",
    "        # return (input: Tensor, output: Tensor)\n",
    "        return example\n",
    "    \n",
    "    def process_example(self, example):\n",
    "        return example\n",
    "    \n",
    "    def _to_pytorch_compatible(self, example):\n",
    "        return tf.nest.map_structure(lambda x: torch.tensor(x).to(torch.float32), example)\n",
    "\n",
    "    def __iter__(self):\n",
    "        for example in self.dataset.as_numpy_iterator():\n",
    "            processed_pytorch_example = self._to_pytorch_compatible(self.process_example(example))\n",
    "            yield processed_pytorch_example['inputs'], processed_pytorch_example['outputs']"
   ]
  },
  {
   "cell_type": "code",
   "execution_count": 182,
   "metadata": {},
   "outputs": [],
   "source": [
    "class MaskedTFIterableDataset(TFIterableDataset):\n",
    "    def __init__(self, masks=None, **kwargs):\n",
    "        super(MaskedTFIterableDataset, self).__init__(**kwargs)\n",
    "        self.composite_mask = None\n",
    "        if masks is not None:\n",
    "            self.composite_mask = self._make_composite_mask(masks)\n",
    "\n",
    "    def _make_composite_mask(self, masks):\n",
    "        composite_mask = masks[0]\n",
    "        for mask in masks[1:]:\n",
    "            composite_mask = torch.logical_and(composite_mask, mask)\n",
    "        return composite_mask\n",
    "    \n",
    "    def mask_structure(self, structure, mask):\n",
    "        return tf.nest.map_structure(lambda tensor: tensor[:, :, mask], structure)\n",
    "\n",
    "    def process_example(self, example):\n",
    "        if self.composite_mask is not None:\n",
    "            example['outputs'] = self.mask_structure(example['outputs'], self.composite_mask)\n",
    "        return example"
   ]
  },
  {
   "cell_type": "code",
   "execution_count": 232,
   "metadata": {},
   "outputs": [],
   "source": [
    "class MeanESMEmbeddingMaskedTFIterableDataset(MaskedTFIterableDataset):\n",
    "    def __init__(self, embedding_matrix_filepath, masks=None, **kwargs):\n",
    "        super(MeanESMEmbeddingMaskedTFIterableDataset, self).__init__(masks, **kwargs)\n",
    "        self.embedding_matrix = torch.load(embedding_matrix_filepath)\n",
    "    \n",
    "    def process_example(self, example):\n",
    "        # add protein embedding to inputs\n",
    "        example['inputs']['embedding'] = self.embedding_matrix[self.composite_mask] if self.composite_mask is not None else self.embedding_matrix\n",
    "        if self.composite_mask is not None:\n",
    "            example['outputs'] = self.mask_structure(example['outputs'], self.composite_mask)\n",
    "        return example"
   ]
  },
  {
   "cell_type": "code",
   "execution_count": 234,
   "metadata": {},
   "outputs": [
    {
     "name": "stderr",
     "output_type": "stream",
     "text": [
      "/tmp/ipykernel_32914/3937880383.py:53: UserWarning: To copy construct from a tensor, it is recommended to use sourceTensor.clone().detach() or sourceTensor.clone().detach().requires_grad_(True), rather than torch.tensor(sourceTensor).\n",
      "  return tf.nest.map_structure(lambda x: torch.tensor(x).to(torch.float32), example)\n"
     ]
    },
    {
     "name": "stdout",
     "output_type": "stream",
     "text": [
      "dict_keys(['sequence', 'embedding'])\n",
      "torch.Size([103, 1280])\n",
      "torch.Size([64, 1000, 103])\n"
     ]
    }
   ],
   "source": [
    "mask_HepG2 = torch.load('experiment-mask.HepG2.pt')\n",
    "# idx2esm = torch.load('../example/esm2_t33_650M_UR50D.ENCODE.idx2mean.pt')\n",
    "# idx2esm.shape\n",
    "\n",
    "esm_masked_dataset = MeanESMEmbeddingMaskedTFIterableDataset(embedding_matrix_filepath='../example/esm2_t33_650M_UR50D.ENCODE.idx2mean.pt', masks=[mask_HepG2], filepath='../example/data.matrix/windows.chr13.4.data.matrix.filtered.tfrecord')\n",
    "# esm_masked_dataset = MeanESMEmbeddingMaskedTFIterableDataset(embedding_matrix_filepath='../example/esm2_t33_650M_UR50D.ENCODE.idx2mean.pt', filepath='../example/data.matrix/windows.chr13.4.data.matrix.filtered.tfrecord')\n",
    "example = next(iter(esm_masked_dataset))\n",
    "print(example[0].keys())\n",
    "print(example[0]['embedding'].shape)\n",
    "print(example[1]['total'].shape)"
   ]
  },
  {
   "cell_type": "code",
   "execution_count": null,
   "metadata": {},
   "outputs": [],
   "source": []
  },
  {
   "cell_type": "code",
   "execution_count": null,
   "metadata": {},
   "outputs": [],
   "source": [
    "mask_HepG2 = torch.load('experiment-mask.HepG2.pt')\n",
    "\n",
    "masked_dataset = MaskedTFIterableDataset(masks=[mask_HepG2], filepath='../example/data.matrix/windows.chr13.4.data.matrix.filtered.tfrecord')\n",
    "example = next(iter(masked_dataset))\n",
    "example[1]['total'].shape"
   ]
  },
  {
   "cell_type": "code",
   "execution_count": 177,
   "metadata": {},
   "outputs": [
    {
     "data": {
      "text/plain": [
       "torch.Size([64, 1000, 223])"
      ]
     },
     "execution_count": 177,
     "metadata": {},
     "output_type": "execute_result"
    }
   ],
   "source": [
    "example = next(iter(TFIterableDataset('../example/data.matrix/windows.chr13.4.data.matrix.filtered.tfrecord')))\n",
    "example[1]['control'].shape"
   ]
  },
  {
   "cell_type": "code",
   "execution_count": 132,
   "metadata": {},
   "outputs": [
    {
     "data": {
      "text/plain": [
       "tensor([[[0., 0., 0.,  ..., 0., 0., 0.],\n",
       "         [0., 0., 0.,  ..., 0., 0., 0.],\n",
       "         [0., 0., 0.,  ..., 0., 0., 0.],\n",
       "         ...,\n",
       "         [0., 0., 0.,  ..., 0., 0., 0.],\n",
       "         [0., 0., 0.,  ..., 0., 0., 0.],\n",
       "         [0., 0., 0.,  ..., 0., 0., 0.]],\n",
       "\n",
       "        [[0., 0., 0.,  ..., 0., 0., 0.],\n",
       "         [0., 0., 0.,  ..., 0., 0., 0.],\n",
       "         [0., 0., 0.,  ..., 0., 0., 0.],\n",
       "         ...,\n",
       "         [0., 0., 0.,  ..., 0., 0., 0.],\n",
       "         [0., 0., 0.,  ..., 0., 0., 0.],\n",
       "         [0., 0., 0.,  ..., 0., 0., 0.]],\n",
       "\n",
       "        [[0., 0., 0.,  ..., 0., 0., 0.],\n",
       "         [0., 0., 0.,  ..., 0., 0., 0.],\n",
       "         [0., 0., 0.,  ..., 0., 0., 0.],\n",
       "         ...,\n",
       "         [0., 0., 0.,  ..., 0., 0., 0.],\n",
       "         [0., 0., 0.,  ..., 0., 0., 0.],\n",
       "         [0., 0., 0.,  ..., 0., 0., 0.]],\n",
       "\n",
       "        ...,\n",
       "\n",
       "        [[0., 0., 0.,  ..., 0., 0., 0.],\n",
       "         [0., 0., 0.,  ..., 0., 0., 0.],\n",
       "         [0., 0., 0.,  ..., 0., 0., 0.],\n",
       "         ...,\n",
       "         [0., 0., 0.,  ..., 0., 0., 0.],\n",
       "         [0., 0., 0.,  ..., 0., 0., 0.],\n",
       "         [0., 0., 0.,  ..., 0., 0., 0.]],\n",
       "\n",
       "        [[0., 0., 0.,  ..., 0., 0., 0.],\n",
       "         [0., 0., 0.,  ..., 0., 0., 0.],\n",
       "         [0., 0., 0.,  ..., 0., 0., 0.],\n",
       "         ...,\n",
       "         [0., 0., 0.,  ..., 0., 0., 0.],\n",
       "         [0., 0., 0.,  ..., 0., 0., 0.],\n",
       "         [0., 0., 0.,  ..., 0., 0., 0.]],\n",
       "\n",
       "        [[0., 0., 0.,  ..., 0., 0., 0.],\n",
       "         [0., 0., 0.,  ..., 0., 0., 0.],\n",
       "         [0., 0., 0.,  ..., 0., 0., 0.],\n",
       "         ...,\n",
       "         [0., 0., 0.,  ..., 0., 0., 0.],\n",
       "         [0., 0., 0.,  ..., 0., 0., 0.],\n",
       "         [0., 0., 0.,  ..., 0., 0., 0.]]])"
      ]
     },
     "execution_count": 132,
     "metadata": {},
     "output_type": "execute_result"
    }
   ],
   "source": [
    "example[1]"
   ]
  },
  {
   "cell_type": "code",
   "execution_count": 144,
   "metadata": {},
   "outputs": [],
   "source": [
    "# torch.tensor('abc'.encode('UTF-8'), dtype=torch.uint8)"
   ]
  },
  {
   "cell_type": "code",
   "execution_count": 145,
   "metadata": {},
   "outputs": [],
   "source": [
    "# int.from_bytes('abc'.encode('UTF-8'), byteorder='big')"
   ]
  },
  {
   "cell_type": "code",
   "execution_count": 149,
   "metadata": {},
   "outputs": [
    {
     "data": {
      "text/plain": [
       "torch.Size([223, 1280])"
      ]
     },
     "execution_count": 149,
     "metadata": {},
     "output_type": "execute_result"
    }
   ],
   "source": [
    "idx2esm = torch.load('../example/esm2_t33_650M_UR50D.ENCODE.idx2mean.pt')\n",
    "idx2esm.shape"
   ]
  },
  {
   "cell_type": "code",
   "execution_count": 179,
   "metadata": {},
   "outputs": [
    {
     "data": {
      "text/plain": [
       "torch.Size([103, 1280])"
      ]
     },
     "execution_count": 179,
     "metadata": {},
     "output_type": "execute_result"
    }
   ],
   "source": [
    "idx2esm[mask_HepG2].shape"
   ]
  },
  {
   "cell_type": "code",
   "execution_count": 148,
   "metadata": {},
   "outputs": [
    {
     "data": {
      "text/plain": [
       "torch.Size([223, 1280])"
      ]
     },
     "execution_count": 148,
     "metadata": {},
     "output_type": "execute_result"
    }
   ],
   "source": [
    "idx2esm.shape"
   ]
  },
  {
   "cell_type": "code",
   "execution_count": null,
   "metadata": {},
   "outputs": [],
   "source": []
  },
  {
   "cell_type": "code",
   "execution_count": null,
   "metadata": {},
   "outputs": [],
   "source": []
  },
  {
   "cell_type": "code",
   "execution_count": 19,
   "metadata": {},
   "outputs": [
    {
     "data": {
      "text/plain": [
       "223"
      ]
     },
     "execution_count": 19,
     "metadata": {},
     "output_type": "execute_result"
    }
   ],
   "source": [
    "len(torch.load('experiment-mask.HepG2.pt'))"
   ]
  },
  {
   "cell_type": "code",
   "execution_count": 105,
   "metadata": {},
   "outputs": [
    {
     "data": {
      "text/plain": [
       "torch.Size([64, 1000, 223])"
      ]
     },
     "execution_count": 105,
     "metadata": {},
     "output_type": "execute_result"
    }
   ],
   "source": [
    "y = example[1]\n",
    "y.shape"
   ]
  },
  {
   "cell_type": "code",
   "execution_count": 123,
   "metadata": {},
   "outputs": [
    {
     "data": {
      "text/plain": [
       "tensor(-0.0005)"
      ]
     },
     "execution_count": 123,
     "metadata": {},
     "output_type": "execute_result"
    }
   ],
   "source": [
    "import torchmetrics\n",
    "\n",
    "class BatchedPCC(torchmetrics.MeanMetric):\n",
    "    def __init__(self, min_height=2, min_count=None):\n",
    "        super(BatchedPCC, self).__init__()\n",
    "\n",
    "        self.min_height = min_height\n",
    "        self.min_count = min_count\n",
    "\n",
    "    def update(self, y_pred: torch.Tensor, y: torch.Tensor):\n",
    "        if y_pred.shape != y.shape:\n",
    "            raise ValueError('shapes y_pred {y_pred.shape} and y {y.shape} are not the same. ')\n",
    "\n",
    "        mean_pcc = self._compute_mean_pcc(y_pred, y)\n",
    "\n",
    "        # update\n",
    "        super().update(mean_pcc)\n",
    "\n",
    "    def _compute_mean_pcc(self, y_pred: torch.Tensor, y: torch.Tensor):\n",
    "        values = []\n",
    "        for i in range(y.shape[0]):\n",
    "            values.append(torchmetrics.functional.pearson_corrcoef(y[i], y_pred[i]))\n",
    "        # stack to (batch_size x ...) - at this point the shape should be (batch_size x experiments\n",
    "        values = torch.stack(values)\n",
    "\n",
    "        # create boolean tensor of entries that are *not* NaNs\n",
    "        values_is_not_nan_mask = torch.logical_not(torch.isnan(values))\n",
    "        # convert nan's to 0\n",
    "        values = torch.nan_to_num(values, 0.0)\n",
    "\n",
    "        # check if required height is reached per experiment\n",
    "        if self.min_height is not None:\n",
    "            # should be shape (batch_size, experiments)\n",
    "            y_min_height_mask = (torch.max(y, dim=-2).values >= self.min_height)\n",
    "        else:\n",
    "            y_min_height_mask = torch.ones(*values.shape)\n",
    "        \n",
    "        # check if required count is reached per experiment\n",
    "        if self.min_count is not None:\n",
    "            # should be shape (batch_size, experiments)\n",
    "            y_min_count_mask = (torch.sum(y, dim=-2) >= self.min_count)\n",
    "        else:\n",
    "            y_min_count_mask = torch.ones(*values.shape)\n",
    "        \n",
    "        # boolean mask indicating which experiment (in each batch) passed nan, heigh and count (and is thus used for the final mean PCC)\n",
    "        passed_boolean_mask = torch.sum(torch.stack([values_is_not_nan_mask, y_min_height_mask, y_min_count_mask]), dim=0) > 0\n",
    "\n",
    "        # mask out (i.e. zero) all PCC values that did not pass\n",
    "        values_masked = torch.mul(values, passed_boolean_mask.to(torch.float32))\n",
    "\n",
    "        # compute mean by only dividing by #-elements that passed\n",
    "        values_mean = torch.sum(values_masked)/torch.sum(passed_boolean_mask)\n",
    "\n",
    "        # if ignore_nan:\n",
    "        #     # only divide by #-elements not NaN\n",
    "        #     values_mean = torch.sum(values)/torch.sum(values_is_not_nan)\n",
    "        # else:\n",
    "        #     values_mean = torch.mean(values)\n",
    "        \n",
    "        return values_mean\n",
    "\n",
    "\n",
    "m = BatchedPCC(min_height=2, min_count=5)\n",
    "m(torch.rand(*y.shape), y)"
   ]
  },
  {
   "cell_type": "code",
   "execution_count": 116,
   "metadata": {},
   "outputs": [
    {
     "data": {
      "text/plain": [
       "tensor([[0.8121, 0.5983],\n",
       "        [0.9303, 0.6061]])"
      ]
     },
     "execution_count": 116,
     "metadata": {},
     "output_type": "execute_result"
    }
   ],
   "source": [
    "torch.max(torch.rand(2, 2, 3), dim=-1).values"
   ]
  },
  {
   "cell_type": "code",
   "execution_count": 109,
   "metadata": {},
   "outputs": [
    {
     "data": {
      "text/plain": [
       "tensor([[1., 1., 1.],\n",
       "        [1., 1., 1.]])"
      ]
     },
     "execution_count": 109,
     "metadata": {},
     "output_type": "execute_result"
    }
   ],
   "source": [
    "torch.ones(2, 3)"
   ]
  },
  {
   "cell_type": "code",
   "execution_count": null,
   "metadata": {},
   "outputs": [],
   "source": []
  },
  {
   "cell_type": "code",
   "execution_count": null,
   "metadata": {},
   "outputs": [],
   "source": []
  },
  {
   "cell_type": "code",
   "execution_count": null,
   "metadata": {},
   "outputs": [],
   "source": []
  },
  {
   "cell_type": "code",
   "execution_count": 201,
   "metadata": {},
   "outputs": [
    {
     "data": {
      "text/plain": [
       "torch.Size([103, 1280])"
      ]
     },
     "execution_count": 201,
     "metadata": {},
     "output_type": "execute_result"
    }
   ],
   "source": [
    "example[0]['embedding'].shape"
   ]
  },
  {
   "cell_type": "code",
   "execution_count": 204,
   "metadata": {},
   "outputs": [
    {
     "data": {
      "text/plain": [
       "torch.Size([103, 256])"
      ]
     },
     "execution_count": 204,
     "metadata": {},
     "output_type": "execute_result"
    }
   ],
   "source": [
    "torch.nn.Linear(in_features=1280, out_features=256)(example[0]['embedding']).shape"
   ]
  },
  {
   "cell_type": "code",
   "execution_count": null,
   "metadata": {},
   "outputs": [],
   "source": []
  },
  {
   "cell_type": "code",
   "execution_count": 229,
   "metadata": {},
   "outputs": [],
   "source": [
    "import torch.nn as nn\n",
    "\n",
    "from torchrbpnet.layers import Conv1DFirstLayer, Conv1DResBlock, LinearProjection\n",
    "\n",
    "class ProteinEmbeddingMultiRBPNet(nn.Module):\n",
    "    def __init__(self, n_tasks, n_layers=9, n_body_filters=256):\n",
    "        super(ProteinEmbeddingMultiRBPNet, self).__init__()\n",
    "\n",
    "        self.n_tasks = n_tasks\n",
    "\n",
    "        # layers RNA\n",
    "        self.body = nn.Sequential(*[Conv1DFirstLayer(4, n_body_filters, 6)]+[(Conv1DResBlock(n_body_filters, n_body_filters, dilation=(2**i))) for i in range(n_layers)])\n",
    "        self.rna_projection = nn.Linear(in_features=n_body_filters, out_features=256, bias=False)\n",
    "\n",
    "        # layers protein\n",
    "        self.protein_projection = nn.Linear(in_features=1280, out_features=256, bias=False)\n",
    "\n",
    "    def forward(self, inputs, **kwargs):\n",
    "        # forward RNA\n",
    "        x_r = inputs['sequence']\n",
    "        for layer in self.body:\n",
    "            x_r = layer(x_r)\n",
    "        # transpose: # (batch_size, dim, N) --> (batch_size, N, dim)\n",
    "        x_r = torch.transpose(x_r, dim0=-2, dim1=-1)\n",
    "        # project: (batch_size, N, dim) --> (batch_size, N, new_dim)\n",
    "        x_r = self.rna_projection(x_r)\n",
    "        \n",
    "        # forward protein\n",
    "        x_p = inputs['embedding']\n",
    "        x_p = self.protein_projection(x_p)\n",
    "        # x_r: (#proteins, dim)\n",
    "\n",
    "        # transpose representations for matmul\n",
    "        # x_r = torch.transpose(x_r, dim0=-2, dim1=-1) # (batch_size, N, dim)\n",
    "        x_p = torch.transpose(x_p, dim0=1, dim1=0) # (dim, #proteins)\n",
    "        \n",
    "        return torch.matmul(x_r, x_p) # (batch_size, N, #proteins)\n",
    "\n",
    "network = ProteinEmbeddingMultiRBPNet(n_tasks=223)"
   ]
  },
  {
   "cell_type": "code",
   "execution_count": 230,
   "metadata": {},
   "outputs": [
    {
     "data": {
      "text/plain": [
       "torch.Size([64, 1000, 103])"
      ]
     },
     "execution_count": 230,
     "metadata": {},
     "output_type": "execute_result"
    }
   ],
   "source": [
    "y_pred = network(example[0])\n",
    "y_pred.shape"
   ]
  },
  {
   "cell_type": "code",
   "execution_count": 210,
   "metadata": {},
   "outputs": [
    {
     "name": "stdout",
     "output_type": "stream",
     "text": [
      "torch.Size([64, 256, 1000])\n",
      "torch.Size([103, 256])\n"
     ]
    }
   ],
   "source": [
    "# y_pred = network(example[0])\n",
    "# print(y_pred[0].shape)\n",
    "# print(y_pred[1].shape)\n",
    "\n",
    "# y_pred_1_t = torch.transpose(y_pred[1], dim0=1, dim1=0)\n",
    "# y_pred_1_t.shape\n",
    "\n",
    "# y_pred_0_t = torch.transpose(y_pred[0], dim0=-2, dim1=0)\n",
    "# y_pred_0_t.shape"
   ]
  },
  {
   "cell_type": "code",
   "execution_count": 211,
   "metadata": {},
   "outputs": [
    {
     "data": {
      "text/plain": [
       "torch.Size([256, 103])"
      ]
     },
     "execution_count": 211,
     "metadata": {},
     "output_type": "execute_result"
    }
   ],
   "source": []
  },
  {
   "cell_type": "code",
   "execution_count": 214,
   "metadata": {},
   "outputs": [
    {
     "data": {
      "text/plain": [
       "torch.Size([64, 1000, 256])"
      ]
     },
     "execution_count": 214,
     "metadata": {},
     "output_type": "execute_result"
    }
   ],
   "source": []
  },
  {
   "cell_type": "code",
   "execution_count": 216,
   "metadata": {},
   "outputs": [],
   "source": [
    "# from functorch import vmap"
   ]
  },
  {
   "cell_type": "code",
   "execution_count": 215,
   "metadata": {},
   "outputs": [
    {
     "data": {
      "text/plain": [
       "torch.Size([64, 1000, 103])"
      ]
     },
     "execution_count": 215,
     "metadata": {},
     "output_type": "execute_result"
    }
   ],
   "source": [
    "torch.matmul(y_pred_0_t, y_pred_1_t).shape"
   ]
  }
 ],
 "metadata": {
  "interpreter": {
   "hash": "7c2a629b5d736a8b2a3c0111829bdedfa4bd0b48e49067d38bd73bb54a8250f9"
  },
  "kernelspec": {
   "display_name": "Python 3.10.9 ('torch')",
   "language": "python",
   "name": "python3"
  },
  "language_info": {
   "codemirror_mode": {
    "name": "ipython",
    "version": 3
   },
   "file_extension": ".py",
   "mimetype": "text/x-python",
   "name": "python",
   "nbconvert_exporter": "python",
   "pygments_lexer": "ipython3",
   "version": "3.10.9"
  },
  "orig_nbformat": 4
 },
 "nbformat": 4,
 "nbformat_minor": 2
}
